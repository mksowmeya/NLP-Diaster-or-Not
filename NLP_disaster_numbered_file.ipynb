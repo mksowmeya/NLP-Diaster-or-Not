{
  "nbformat": 4,
  "nbformat_minor": 0,
  "metadata": {
    "colab": {
      "provenance": []
    },
    "kernelspec": {
      "name": "python3",
      "display_name": "Python 3"
    },
    "language_info": {
      "name": "python"
    },
    "accelerator": "GPU"
  },
  "cells": [
    {
      "cell_type": "markdown",
      "source": [
        "NLP has the goal of deriving information out of natural language (could be sequence of text or speech)\n",
        "\n",
        "Common term of NLP - seq2seq "
      ],
      "metadata": {
        "id": "DBtJZfWZxkv6"
      }
    },
    {
      "cell_type": "code",
      "source": [
        "# VALIDATE WHETHER NECESSARY DRIVERS ARE INSTALLED.\n",
        "!nvidia-smi -L"
      ],
      "metadata": {
        "colab": {
          "base_uri": "https://localhost:8080/"
        },
        "id": "sXOR_N-ZxkJp",
        "outputId": "7e63a13f-c9d8-4ac6-8ddb-7cad9475c471"
      },
      "execution_count": 1,
      "outputs": [
        {
          "output_type": "stream",
          "name": "stdout",
          "text": [
            "GPU 0: Tesla T4 (UUID: GPU-5102e454-c004-66f2-7c05-823d3536e342)\n"
          ]
        }
      ]
    },
    {
      "cell_type": "code",
      "source": [
        "# TASK 1: Loading libraries\n",
        "\n",
        "import tensorflow as tf\n",
        "from tensorflow.keras.layers.experimental.preprocessing import TextVectorization\n",
        "import itertools\n",
        "import matplotlib.pyplot as plt\n",
        "import numpy as np\n",
        "from sklearn.metrics import confusion_matrix\n",
        "import zipfile\n",
        "import os\n",
        "import datetime\n",
        "import pandas as pd"
      ],
      "metadata": {
        "id": "lhAr6cmlyp8k"
      },
      "execution_count": 2,
      "outputs": []
    },
    {
      "cell_type": "markdown",
      "source": [
        "#Get the dataset"
      ],
      "metadata": {
        "id": "NJhAaTuE2L3C"
      }
    },
    {
      "cell_type": "code",
      "source": [
        "# TASK 2: Getting dataset from kaggle\n",
        "!wget https://storage.googleapis.com/ztm_tf_course/nlp_getting_started.zip"
      ],
      "metadata": {
        "colab": {
          "base_uri": "https://localhost:8080/"
        },
        "id": "r1mUXDCB0_SL",
        "outputId": "357bd92f-b3be-4f8a-fbcc-b7518e4aaa38"
      },
      "execution_count": 3,
      "outputs": [
        {
          "output_type": "stream",
          "name": "stdout",
          "text": [
            "--2023-04-10 18:01:11--  https://storage.googleapis.com/ztm_tf_course/nlp_getting_started.zip\n",
            "Resolving storage.googleapis.com (storage.googleapis.com)... 173.194.193.128, 173.194.194.128, 173.194.195.128, ...\n",
            "Connecting to storage.googleapis.com (storage.googleapis.com)|173.194.193.128|:443... connected.\n",
            "HTTP request sent, awaiting response... 200 OK\n",
            "Length: 607343 (593K) [application/zip]\n",
            "Saving to: ‘nlp_getting_started.zip’\n",
            "\n",
            "\rnlp_getting_started   0%[                    ]       0  --.-KB/s               \rnlp_getting_started 100%[===================>] 593.11K  --.-KB/s    in 0.01s   \n",
            "\n",
            "2023-04-10 18:01:11 (39.8 MB/s) - ‘nlp_getting_started.zip’ saved [607343/607343]\n",
            "\n"
          ]
        }
      ]
    },
    {
      "cell_type": "code",
      "source": [
        "# TASK 3: Unzip the data\n",
        "\n",
        "def unzip_data(filename):\n",
        "  \"\"\"\n",
        "  Unzips filename into the current working directory.\n",
        "  Args:\n",
        "    filename (str): a filepath to a target zip folder to be unzipped.\n",
        "  \"\"\"\n",
        "  zip_ref = zipfile.ZipFile(filename, \"r\")\n",
        "  zip_ref.extractall()\n",
        "  zip_ref.close()"
      ],
      "metadata": {
        "id": "jd0gTAkw2Qms"
      },
      "execution_count": 4,
      "outputs": []
    },
    {
      "cell_type": "code",
      "source": [
        "# TASK 4: STORE THE DATA IN A VARIABLE\n",
        "unzip_data = unzip_data(\"nlp_getting_started.zip\")"
      ],
      "metadata": {
        "id": "5dV_7yDl2j55"
      },
      "execution_count": 5,
      "outputs": []
    },
    {
      "cell_type": "markdown",
      "source": [
        "# Visualize the Data"
      ],
      "metadata": {
        "id": "sCiuI4n53hPQ"
      }
    },
    {
      "cell_type": "code",
      "source": [
        "# TASK 5: LOAD THE TRAIN AND TEST DATA\n",
        "\n",
        "train_df = pd.read_csv(\"train.csv\")\n",
        "test_df = pd.read_csv(\"test.csv\")"
      ],
      "metadata": {
        "id": "YzqUaE4q2qXg"
      },
      "execution_count": 6,
      "outputs": []
    },
    {
      "cell_type": "code",
      "source": [
        "# TASK 6: VISUALIZE THE TRAIN DATASET\n",
        "train_df.head()"
      ],
      "metadata": {
        "colab": {
          "base_uri": "https://localhost:8080/",
          "height": 206
        },
        "id": "uG1Ck9orR9TW",
        "outputId": "b20e5bf8-7d33-473a-bb6f-b3b798d6890a"
      },
      "execution_count": 7,
      "outputs": [
        {
          "output_type": "execute_result",
          "data": {
            "text/plain": [
              "   id keyword location                                               text  \\\n",
              "0   1     NaN      NaN  Our Deeds are the Reason of this #earthquake M...   \n",
              "1   4     NaN      NaN             Forest fire near La Ronge Sask. Canada   \n",
              "2   5     NaN      NaN  All residents asked to 'shelter in place' are ...   \n",
              "3   6     NaN      NaN  13,000 people receive #wildfires evacuation or...   \n",
              "4   7     NaN      NaN  Just got sent this photo from Ruby #Alaska as ...   \n",
              "\n",
              "   target  \n",
              "0       1  \n",
              "1       1  \n",
              "2       1  \n",
              "3       1  \n",
              "4       1  "
            ],
            "text/html": [
              "\n",
              "  <div id=\"df-15a9c06c-ac26-4942-85f5-e81bf026b368\">\n",
              "    <div class=\"colab-df-container\">\n",
              "      <div>\n",
              "<style scoped>\n",
              "    .dataframe tbody tr th:only-of-type {\n",
              "        vertical-align: middle;\n",
              "    }\n",
              "\n",
              "    .dataframe tbody tr th {\n",
              "        vertical-align: top;\n",
              "    }\n",
              "\n",
              "    .dataframe thead th {\n",
              "        text-align: right;\n",
              "    }\n",
              "</style>\n",
              "<table border=\"1\" class=\"dataframe\">\n",
              "  <thead>\n",
              "    <tr style=\"text-align: right;\">\n",
              "      <th></th>\n",
              "      <th>id</th>\n",
              "      <th>keyword</th>\n",
              "      <th>location</th>\n",
              "      <th>text</th>\n",
              "      <th>target</th>\n",
              "    </tr>\n",
              "  </thead>\n",
              "  <tbody>\n",
              "    <tr>\n",
              "      <th>0</th>\n",
              "      <td>1</td>\n",
              "      <td>NaN</td>\n",
              "      <td>NaN</td>\n",
              "      <td>Our Deeds are the Reason of this #earthquake M...</td>\n",
              "      <td>1</td>\n",
              "    </tr>\n",
              "    <tr>\n",
              "      <th>1</th>\n",
              "      <td>4</td>\n",
              "      <td>NaN</td>\n",
              "      <td>NaN</td>\n",
              "      <td>Forest fire near La Ronge Sask. Canada</td>\n",
              "      <td>1</td>\n",
              "    </tr>\n",
              "    <tr>\n",
              "      <th>2</th>\n",
              "      <td>5</td>\n",
              "      <td>NaN</td>\n",
              "      <td>NaN</td>\n",
              "      <td>All residents asked to 'shelter in place' are ...</td>\n",
              "      <td>1</td>\n",
              "    </tr>\n",
              "    <tr>\n",
              "      <th>3</th>\n",
              "      <td>6</td>\n",
              "      <td>NaN</td>\n",
              "      <td>NaN</td>\n",
              "      <td>13,000 people receive #wildfires evacuation or...</td>\n",
              "      <td>1</td>\n",
              "    </tr>\n",
              "    <tr>\n",
              "      <th>4</th>\n",
              "      <td>7</td>\n",
              "      <td>NaN</td>\n",
              "      <td>NaN</td>\n",
              "      <td>Just got sent this photo from Ruby #Alaska as ...</td>\n",
              "      <td>1</td>\n",
              "    </tr>\n",
              "  </tbody>\n",
              "</table>\n",
              "</div>\n",
              "      <button class=\"colab-df-convert\" onclick=\"convertToInteractive('df-15a9c06c-ac26-4942-85f5-e81bf026b368')\"\n",
              "              title=\"Convert this dataframe to an interactive table.\"\n",
              "              style=\"display:none;\">\n",
              "        \n",
              "  <svg xmlns=\"http://www.w3.org/2000/svg\" height=\"24px\"viewBox=\"0 0 24 24\"\n",
              "       width=\"24px\">\n",
              "    <path d=\"M0 0h24v24H0V0z\" fill=\"none\"/>\n",
              "    <path d=\"M18.56 5.44l.94 2.06.94-2.06 2.06-.94-2.06-.94-.94-2.06-.94 2.06-2.06.94zm-11 1L8.5 8.5l.94-2.06 2.06-.94-2.06-.94L8.5 2.5l-.94 2.06-2.06.94zm10 10l.94 2.06.94-2.06 2.06-.94-2.06-.94-.94-2.06-.94 2.06-2.06.94z\"/><path d=\"M17.41 7.96l-1.37-1.37c-.4-.4-.92-.59-1.43-.59-.52 0-1.04.2-1.43.59L10.3 9.45l-7.72 7.72c-.78.78-.78 2.05 0 2.83L4 21.41c.39.39.9.59 1.41.59.51 0 1.02-.2 1.41-.59l7.78-7.78 2.81-2.81c.8-.78.8-2.07 0-2.86zM5.41 20L4 18.59l7.72-7.72 1.47 1.35L5.41 20z\"/>\n",
              "  </svg>\n",
              "      </button>\n",
              "      \n",
              "  <style>\n",
              "    .colab-df-container {\n",
              "      display:flex;\n",
              "      flex-wrap:wrap;\n",
              "      gap: 12px;\n",
              "    }\n",
              "\n",
              "    .colab-df-convert {\n",
              "      background-color: #E8F0FE;\n",
              "      border: none;\n",
              "      border-radius: 50%;\n",
              "      cursor: pointer;\n",
              "      display: none;\n",
              "      fill: #1967D2;\n",
              "      height: 32px;\n",
              "      padding: 0 0 0 0;\n",
              "      width: 32px;\n",
              "    }\n",
              "\n",
              "    .colab-df-convert:hover {\n",
              "      background-color: #E2EBFA;\n",
              "      box-shadow: 0px 1px 2px rgba(60, 64, 67, 0.3), 0px 1px 3px 1px rgba(60, 64, 67, 0.15);\n",
              "      fill: #174EA6;\n",
              "    }\n",
              "\n",
              "    [theme=dark] .colab-df-convert {\n",
              "      background-color: #3B4455;\n",
              "      fill: #D2E3FC;\n",
              "    }\n",
              "\n",
              "    [theme=dark] .colab-df-convert:hover {\n",
              "      background-color: #434B5C;\n",
              "      box-shadow: 0px 1px 3px 1px rgba(0, 0, 0, 0.15);\n",
              "      filter: drop-shadow(0px 1px 2px rgba(0, 0, 0, 0.3));\n",
              "      fill: #FFFFFF;\n",
              "    }\n",
              "  </style>\n",
              "\n",
              "      <script>\n",
              "        const buttonEl =\n",
              "          document.querySelector('#df-15a9c06c-ac26-4942-85f5-e81bf026b368 button.colab-df-convert');\n",
              "        buttonEl.style.display =\n",
              "          google.colab.kernel.accessAllowed ? 'block' : 'none';\n",
              "\n",
              "        async function convertToInteractive(key) {\n",
              "          const element = document.querySelector('#df-15a9c06c-ac26-4942-85f5-e81bf026b368');\n",
              "          const dataTable =\n",
              "            await google.colab.kernel.invokeFunction('convertToInteractive',\n",
              "                                                     [key], {});\n",
              "          if (!dataTable) return;\n",
              "\n",
              "          const docLinkHtml = 'Like what you see? Visit the ' +\n",
              "            '<a target=\"_blank\" href=https://colab.research.google.com/notebooks/data_table.ipynb>data table notebook</a>'\n",
              "            + ' to learn more about interactive tables.';\n",
              "          element.innerHTML = '';\n",
              "          dataTable['output_type'] = 'display_data';\n",
              "          await google.colab.output.renderOutput(dataTable, element);\n",
              "          const docLink = document.createElement('div');\n",
              "          docLink.innerHTML = docLinkHtml;\n",
              "          element.appendChild(docLink);\n",
              "        }\n",
              "      </script>\n",
              "    </div>\n",
              "  </div>\n",
              "  "
            ]
          },
          "metadata": {},
          "execution_count": 7
        }
      ]
    },
    {
      "cell_type": "code",
      "source": [
        "# TASK 7: THE ENTIRE TRAIN DATAFRAME ROWS ARE SHUFFLED USING SAMPLE METHOD.(helps reduce bias or patterns if present)\n",
        "train_df_shuffled = train_df.sample(frac =1, random_state = 42)\n",
        "train_df_shuffled.head()"
      ],
      "metadata": {
        "id": "1gMP0GuJVnuG",
        "colab": {
          "base_uri": "https://localhost:8080/",
          "height": 206
        },
        "outputId": "2025b492-8b32-4d9d-df09-6a8ccb253570"
      },
      "execution_count": 8,
      "outputs": [
        {
          "output_type": "execute_result",
          "data": {
            "text/plain": [
              "        id      keyword               location  \\\n",
              "2644  3796  destruction                    NaN   \n",
              "2227  3185       deluge                    NaN   \n",
              "5448  7769       police                     UK   \n",
              "132    191   aftershock                    NaN   \n",
              "6845  9810       trauma  Montgomery County, MD   \n",
              "\n",
              "                                                   text  target  \n",
              "2644  So you have a new weapon that can cause un-ima...       1  \n",
              "2227  The f$&amp;@ing things I do for #GISHWHES Just...       0  \n",
              "5448  DT @georgegalloway: RT @Galloway4Mayor: ÛÏThe...       1  \n",
              "132   Aftershock back to school kick off was great. ...       0  \n",
              "6845  in response to trauma Children of Addicts deve...       0  "
            ],
            "text/html": [
              "\n",
              "  <div id=\"df-2e0c6223-375c-4b72-bce8-04f70e73880b\">\n",
              "    <div class=\"colab-df-container\">\n",
              "      <div>\n",
              "<style scoped>\n",
              "    .dataframe tbody tr th:only-of-type {\n",
              "        vertical-align: middle;\n",
              "    }\n",
              "\n",
              "    .dataframe tbody tr th {\n",
              "        vertical-align: top;\n",
              "    }\n",
              "\n",
              "    .dataframe thead th {\n",
              "        text-align: right;\n",
              "    }\n",
              "</style>\n",
              "<table border=\"1\" class=\"dataframe\">\n",
              "  <thead>\n",
              "    <tr style=\"text-align: right;\">\n",
              "      <th></th>\n",
              "      <th>id</th>\n",
              "      <th>keyword</th>\n",
              "      <th>location</th>\n",
              "      <th>text</th>\n",
              "      <th>target</th>\n",
              "    </tr>\n",
              "  </thead>\n",
              "  <tbody>\n",
              "    <tr>\n",
              "      <th>2644</th>\n",
              "      <td>3796</td>\n",
              "      <td>destruction</td>\n",
              "      <td>NaN</td>\n",
              "      <td>So you have a new weapon that can cause un-ima...</td>\n",
              "      <td>1</td>\n",
              "    </tr>\n",
              "    <tr>\n",
              "      <th>2227</th>\n",
              "      <td>3185</td>\n",
              "      <td>deluge</td>\n",
              "      <td>NaN</td>\n",
              "      <td>The f$&amp;amp;@ing things I do for #GISHWHES Just...</td>\n",
              "      <td>0</td>\n",
              "    </tr>\n",
              "    <tr>\n",
              "      <th>5448</th>\n",
              "      <td>7769</td>\n",
              "      <td>police</td>\n",
              "      <td>UK</td>\n",
              "      <td>DT @georgegalloway: RT @Galloway4Mayor: ÛÏThe...</td>\n",
              "      <td>1</td>\n",
              "    </tr>\n",
              "    <tr>\n",
              "      <th>132</th>\n",
              "      <td>191</td>\n",
              "      <td>aftershock</td>\n",
              "      <td>NaN</td>\n",
              "      <td>Aftershock back to school kick off was great. ...</td>\n",
              "      <td>0</td>\n",
              "    </tr>\n",
              "    <tr>\n",
              "      <th>6845</th>\n",
              "      <td>9810</td>\n",
              "      <td>trauma</td>\n",
              "      <td>Montgomery County, MD</td>\n",
              "      <td>in response to trauma Children of Addicts deve...</td>\n",
              "      <td>0</td>\n",
              "    </tr>\n",
              "  </tbody>\n",
              "</table>\n",
              "</div>\n",
              "      <button class=\"colab-df-convert\" onclick=\"convertToInteractive('df-2e0c6223-375c-4b72-bce8-04f70e73880b')\"\n",
              "              title=\"Convert this dataframe to an interactive table.\"\n",
              "              style=\"display:none;\">\n",
              "        \n",
              "  <svg xmlns=\"http://www.w3.org/2000/svg\" height=\"24px\"viewBox=\"0 0 24 24\"\n",
              "       width=\"24px\">\n",
              "    <path d=\"M0 0h24v24H0V0z\" fill=\"none\"/>\n",
              "    <path d=\"M18.56 5.44l.94 2.06.94-2.06 2.06-.94-2.06-.94-.94-2.06-.94 2.06-2.06.94zm-11 1L8.5 8.5l.94-2.06 2.06-.94-2.06-.94L8.5 2.5l-.94 2.06-2.06.94zm10 10l.94 2.06.94-2.06 2.06-.94-2.06-.94-.94-2.06-.94 2.06-2.06.94z\"/><path d=\"M17.41 7.96l-1.37-1.37c-.4-.4-.92-.59-1.43-.59-.52 0-1.04.2-1.43.59L10.3 9.45l-7.72 7.72c-.78.78-.78 2.05 0 2.83L4 21.41c.39.39.9.59 1.41.59.51 0 1.02-.2 1.41-.59l7.78-7.78 2.81-2.81c.8-.78.8-2.07 0-2.86zM5.41 20L4 18.59l7.72-7.72 1.47 1.35L5.41 20z\"/>\n",
              "  </svg>\n",
              "      </button>\n",
              "      \n",
              "  <style>\n",
              "    .colab-df-container {\n",
              "      display:flex;\n",
              "      flex-wrap:wrap;\n",
              "      gap: 12px;\n",
              "    }\n",
              "\n",
              "    .colab-df-convert {\n",
              "      background-color: #E8F0FE;\n",
              "      border: none;\n",
              "      border-radius: 50%;\n",
              "      cursor: pointer;\n",
              "      display: none;\n",
              "      fill: #1967D2;\n",
              "      height: 32px;\n",
              "      padding: 0 0 0 0;\n",
              "      width: 32px;\n",
              "    }\n",
              "\n",
              "    .colab-df-convert:hover {\n",
              "      background-color: #E2EBFA;\n",
              "      box-shadow: 0px 1px 2px rgba(60, 64, 67, 0.3), 0px 1px 3px 1px rgba(60, 64, 67, 0.15);\n",
              "      fill: #174EA6;\n",
              "    }\n",
              "\n",
              "    [theme=dark] .colab-df-convert {\n",
              "      background-color: #3B4455;\n",
              "      fill: #D2E3FC;\n",
              "    }\n",
              "\n",
              "    [theme=dark] .colab-df-convert:hover {\n",
              "      background-color: #434B5C;\n",
              "      box-shadow: 0px 1px 3px 1px rgba(0, 0, 0, 0.15);\n",
              "      filter: drop-shadow(0px 1px 2px rgba(0, 0, 0, 0.3));\n",
              "      fill: #FFFFFF;\n",
              "    }\n",
              "  </style>\n",
              "\n",
              "      <script>\n",
              "        const buttonEl =\n",
              "          document.querySelector('#df-2e0c6223-375c-4b72-bce8-04f70e73880b button.colab-df-convert');\n",
              "        buttonEl.style.display =\n",
              "          google.colab.kernel.accessAllowed ? 'block' : 'none';\n",
              "\n",
              "        async function convertToInteractive(key) {\n",
              "          const element = document.querySelector('#df-2e0c6223-375c-4b72-bce8-04f70e73880b');\n",
              "          const dataTable =\n",
              "            await google.colab.kernel.invokeFunction('convertToInteractive',\n",
              "                                                     [key], {});\n",
              "          if (!dataTable) return;\n",
              "\n",
              "          const docLinkHtml = 'Like what you see? Visit the ' +\n",
              "            '<a target=\"_blank\" href=https://colab.research.google.com/notebooks/data_table.ipynb>data table notebook</a>'\n",
              "            + ' to learn more about interactive tables.';\n",
              "          element.innerHTML = '';\n",
              "          dataTable['output_type'] = 'display_data';\n",
              "          await google.colab.output.renderOutput(dataTable, element);\n",
              "          const docLink = document.createElement('div');\n",
              "          docLink.innerHTML = docLinkHtml;\n",
              "          element.appendChild(docLink);\n",
              "        }\n",
              "      </script>\n",
              "    </div>\n",
              "  </div>\n",
              "  "
            ]
          },
          "metadata": {},
          "execution_count": 8
        }
      ]
    },
    {
      "cell_type": "code",
      "source": [
        "# TASK 8: COUNT THE UNIQUE VALUES IN THE TARGET COLUMN.\n",
        "train_df['target'].value_counts()"
      ],
      "metadata": {
        "colab": {
          "base_uri": "https://localhost:8080/"
        },
        "id": "0lOLxkPgWSnM",
        "outputId": "34404cf0-fcaa-427f-dc03-8ac1c62179a7"
      },
      "execution_count": 9,
      "outputs": [
        {
          "output_type": "execute_result",
          "data": {
            "text/plain": [
              "0    4342\n",
              "1    3271\n",
              "Name: target, dtype: int64"
            ]
          },
          "metadata": {},
          "execution_count": 9
        }
      ]
    },
    {
      "cell_type": "code",
      "source": [
        "# TASK 9: COUNT NO. OF OBSERVATIONS TAKEN FOR TRAIN AND TEST DATA.\n",
        "len(train_df), len(test_df)"
      ],
      "metadata": {
        "colab": {
          "base_uri": "https://localhost:8080/"
        },
        "id": "IdWoX2TIW8gl",
        "outputId": "14304275-de4b-4eef-f578-ef7380306e15"
      },
      "execution_count": 10,
      "outputs": [
        {
          "output_type": "execute_result",
          "data": {
            "text/plain": [
              "(7613, 3263)"
            ]
          },
          "metadata": {},
          "execution_count": 10
        }
      ]
    },
    {
      "cell_type": "code",
      "source": [
        "# TASK 10: SPLIT DATA INTO TRAIN AND VALIDATION SET.\n",
        "\n",
        "from sklearn.model_selection import train_test_split\n",
        "train_sentences, val_sentences, train_labels, val_labels = train_test_split(train_df_shuffled[\"text\"].to_numpy(),\n",
        "                                                                            train_df_shuffled[\"target\"].to_numpy(),\n",
        "                                                                            test_size=0.1,\n",
        "                                                                            random_state=42)"
      ],
      "metadata": {
        "id": "YtX9UtWnXCF1"
      },
      "execution_count": 11,
      "outputs": []
    },
    {
      "cell_type": "code",
      "source": [
        "# TASK 10: LENGTH OF ARRAYS AFTER SPLITTING TRAINING DATA INTO TRAIN AND VALIDATION SET\n",
        "len(train_sentences), len(val_sentences), len(train_labels), len(val_labels)"
      ],
      "metadata": {
        "colab": {
          "base_uri": "https://localhost:8080/"
        },
        "id": "z6DQYXL5ZQwp",
        "outputId": "f324b232-3645-48e8-9b05-10a0defca2b8"
      },
      "execution_count": 12,
      "outputs": [
        {
          "output_type": "execute_result",
          "data": {
            "text/plain": [
              "(6851, 762, 6851, 762)"
            ]
          },
          "metadata": {},
          "execution_count": 12
        }
      ]
    },
    {
      "cell_type": "markdown",
      "source": [
        "# Convert text into numerical values - TOKENIZATION , EMBEDDING & TEXT VECTORIZATION"
      ],
      "metadata": {
        "id": "JdD1ZPUQmlCm"
      }
    },
    {
      "cell_type": "code",
      "source": [
        "# TASK 11: FIND MAXIMUM TOKENS\n",
        "\n",
        "round(sum(len(l.split()) for l in train_sentences))"
      ],
      "metadata": {
        "colab": {
          "base_uri": "https://localhost:8080/"
        },
        "id": "HN2oECT4qNgm",
        "outputId": "7f06f4a6-ee19-4f0c-dbbc-0bba92474116"
      },
      "execution_count": 13,
      "outputs": [
        {
          "output_type": "execute_result",
          "data": {
            "text/plain": [
              "102087"
            ]
          },
          "metadata": {},
          "execution_count": 13
        }
      ]
    },
    {
      "cell_type": "code",
      "source": [
        "# TASK 12: FIND OUTPUT_SEQUENCE LENGTH\n",
        "\n",
        "round(sum(len(l.split()) for l in train_sentences)/len(train_sentences))"
      ],
      "metadata": {
        "colab": {
          "base_uri": "https://localhost:8080/"
        },
        "id": "XOzInoJuqZ79",
        "outputId": "b5f19674-3324-4bd9-ed70-9c7e3836f1cd"
      },
      "execution_count": 14,
      "outputs": [
        {
          "output_type": "execute_result",
          "data": {
            "text/plain": [
              "15"
            ]
          },
          "metadata": {},
          "execution_count": 14
        }
      ]
    },
    {
      "cell_type": "code",
      "source": [
        "# TASK 13: TEXT VECTORIZATION USING DEFAULT PARAMETERS\n",
        "text_vectorizer = TextVectorization(max_tokens = 10000,\n",
        "                                    standardize = \"lower_and_strip_punctuation\",\n",
        "                                    split = \"whitespace\",\n",
        "                                    ngrams = None,\n",
        "                                    output_mode = \"int\",\n",
        "                                    output_sequence_length = 15)"
      ],
      "metadata": {
        "id": "v8KZYyndZYbb"
      },
      "execution_count": 15,
      "outputs": []
    },
    {
      "cell_type": "code",
      "source": [
        "#TASK 14: COMPUTE VOCABULARY AND FREQUENCY STATISTICS \n",
        "text_vectorizer.adapt(train_sentences)"
      ],
      "metadata": {
        "id": "YFHGUM7_oVDJ"
      },
      "execution_count": 16,
      "outputs": []
    },
    {
      "cell_type": "code",
      "source": [
        "# TASK 15: GET UNIQUE WORDS IN THE VOCABULARY\n",
        "words_in_vocab = text_vectorizer.get_vocabulary()\n",
        "len(words_in_vocab)"
      ],
      "metadata": {
        "colab": {
          "base_uri": "https://localhost:8080/"
        },
        "id": "ws3lVJ6usi4y",
        "outputId": "56b71329-6b76-4e85-97fe-157c1863019b"
      },
      "execution_count": 17,
      "outputs": [
        {
          "output_type": "execute_result",
          "data": {
            "text/plain": [
              "10000"
            ]
          },
          "metadata": {},
          "execution_count": 17
        }
      ]
    },
    {
      "cell_type": "markdown",
      "source": [
        "#Embedding layer"
      ],
      "metadata": {
        "id": "zGKXgvy-1HdQ"
      }
    },
    {
      "cell_type": "code",
      "source": [
        "# TASK 16: CREATE EMBEDDING LAYER\n",
        "from tensorflow.keras import layers\n",
        "\n",
        "embedding = layers.Embedding(input_dim = 10000,\n",
        "                             output_dim = 128,\n",
        "                             input_length = 15)"
      ],
      "metadata": {
        "id": "ISBFr2Pqssja"
      },
      "execution_count": 18,
      "outputs": []
    },
    {
      "cell_type": "markdown",
      "source": [
        "# **Models**\n",
        "\n",
        "1. Naive Bayes with TF-IDF Encoder (baseline)\n",
        "2. Feed-Forward Neural Network (dense Model)\n",
        "3. LSTM (RNN)\n",
        "4. GRU (RNN)\n",
        "5. Bidirectional -LSTM (RNN)\n",
        "6. 1D Convolutional Neural Network\n",
        "7. Tensorflow Hub Pretained Feature Extractor\n",
        "8. Tensorflow Hub Pretrained Feature Extractor (10% of Data)"
      ],
      "metadata": {
        "id": "YRTSNIg543gZ"
      }
    },
    {
      "cell_type": "markdown",
      "source": [
        "## **Steps in Modelling**\n",
        "1. Create a model\n",
        "2. Build a model\n",
        "3. Fit a model\n",
        "4. Evaluate a model"
      ],
      "metadata": {
        "id": "JjcC2hI46ift"
      }
    },
    {
      "cell_type": "markdown",
      "source": [
        "# Model 1 - Naive Bayes - Baseline Model\n"
      ],
      "metadata": {
        "id": "DLDbK7QfFA9o"
      }
    },
    {
      "cell_type": "code",
      "source": [
        "#TASK 17: IMPORT NAIVE BAYES PACKAGES\n",
        "from sklearn.feature_extraction.text import TfidfVectorizer\n",
        "from sklearn.naive_bayes import MultinomialNB\n",
        "from sklearn.pipeline import Pipeline"
      ],
      "metadata": {
        "id": "Nu8WTNxW2h2_"
      },
      "execution_count": 19,
      "outputs": []
    },
    {
      "cell_type": "code",
      "source": [
        "# TASK 18: CRAETE TOKENIZATION AND MODELLING PIPELINE\n",
        "model_0 = Pipeline([(\"tfidf\", TfidfVectorizer()), (\"clf\", MultinomialNB()) ])"
      ],
      "metadata": {
        "id": "KYnZvLwf5EJK"
      },
      "execution_count": 20,
      "outputs": []
    },
    {
      "cell_type": "code",
      "source": [
        "#TASK 19: FIT THE PIPELINE\n",
        "model_0.fit(train_sentences, train_labels)"
      ],
      "metadata": {
        "colab": {
          "base_uri": "https://localhost:8080/",
          "height": 126
        },
        "id": "9lPa2jmM5FkB",
        "outputId": "28d3137c-6a7e-4fd7-978f-9480a6e58caf"
      },
      "execution_count": 21,
      "outputs": [
        {
          "output_type": "execute_result",
          "data": {
            "text/plain": [
              "Pipeline(steps=[('tfidf', TfidfVectorizer()), ('clf', MultinomialNB())])"
            ],
            "text/html": [
              "<style>#sk-container-id-1 {color: black;background-color: white;}#sk-container-id-1 pre{padding: 0;}#sk-container-id-1 div.sk-toggleable {background-color: white;}#sk-container-id-1 label.sk-toggleable__label {cursor: pointer;display: block;width: 100%;margin-bottom: 0;padding: 0.3em;box-sizing: border-box;text-align: center;}#sk-container-id-1 label.sk-toggleable__label-arrow:before {content: \"▸\";float: left;margin-right: 0.25em;color: #696969;}#sk-container-id-1 label.sk-toggleable__label-arrow:hover:before {color: black;}#sk-container-id-1 div.sk-estimator:hover label.sk-toggleable__label-arrow:before {color: black;}#sk-container-id-1 div.sk-toggleable__content {max-height: 0;max-width: 0;overflow: hidden;text-align: left;background-color: #f0f8ff;}#sk-container-id-1 div.sk-toggleable__content pre {margin: 0.2em;color: black;border-radius: 0.25em;background-color: #f0f8ff;}#sk-container-id-1 input.sk-toggleable__control:checked~div.sk-toggleable__content {max-height: 200px;max-width: 100%;overflow: auto;}#sk-container-id-1 input.sk-toggleable__control:checked~label.sk-toggleable__label-arrow:before {content: \"▾\";}#sk-container-id-1 div.sk-estimator input.sk-toggleable__control:checked~label.sk-toggleable__label {background-color: #d4ebff;}#sk-container-id-1 div.sk-label input.sk-toggleable__control:checked~label.sk-toggleable__label {background-color: #d4ebff;}#sk-container-id-1 input.sk-hidden--visually {border: 0;clip: rect(1px 1px 1px 1px);clip: rect(1px, 1px, 1px, 1px);height: 1px;margin: -1px;overflow: hidden;padding: 0;position: absolute;width: 1px;}#sk-container-id-1 div.sk-estimator {font-family: monospace;background-color: #f0f8ff;border: 1px dotted black;border-radius: 0.25em;box-sizing: border-box;margin-bottom: 0.5em;}#sk-container-id-1 div.sk-estimator:hover {background-color: #d4ebff;}#sk-container-id-1 div.sk-parallel-item::after {content: \"\";width: 100%;border-bottom: 1px solid gray;flex-grow: 1;}#sk-container-id-1 div.sk-label:hover label.sk-toggleable__label {background-color: #d4ebff;}#sk-container-id-1 div.sk-serial::before {content: \"\";position: absolute;border-left: 1px solid gray;box-sizing: border-box;top: 0;bottom: 0;left: 50%;z-index: 0;}#sk-container-id-1 div.sk-serial {display: flex;flex-direction: column;align-items: center;background-color: white;padding-right: 0.2em;padding-left: 0.2em;position: relative;}#sk-container-id-1 div.sk-item {position: relative;z-index: 1;}#sk-container-id-1 div.sk-parallel {display: flex;align-items: stretch;justify-content: center;background-color: white;position: relative;}#sk-container-id-1 div.sk-item::before, #sk-container-id-1 div.sk-parallel-item::before {content: \"\";position: absolute;border-left: 1px solid gray;box-sizing: border-box;top: 0;bottom: 0;left: 50%;z-index: -1;}#sk-container-id-1 div.sk-parallel-item {display: flex;flex-direction: column;z-index: 1;position: relative;background-color: white;}#sk-container-id-1 div.sk-parallel-item:first-child::after {align-self: flex-end;width: 50%;}#sk-container-id-1 div.sk-parallel-item:last-child::after {align-self: flex-start;width: 50%;}#sk-container-id-1 div.sk-parallel-item:only-child::after {width: 0;}#sk-container-id-1 div.sk-dashed-wrapped {border: 1px dashed gray;margin: 0 0.4em 0.5em 0.4em;box-sizing: border-box;padding-bottom: 0.4em;background-color: white;}#sk-container-id-1 div.sk-label label {font-family: monospace;font-weight: bold;display: inline-block;line-height: 1.2em;}#sk-container-id-1 div.sk-label-container {text-align: center;}#sk-container-id-1 div.sk-container {/* jupyter's `normalize.less` sets `[hidden] { display: none; }` but bootstrap.min.css set `[hidden] { display: none !important; }` so we also need the `!important` here to be able to override the default hidden behavior on the sphinx rendered scikit-learn.org. See: https://github.com/scikit-learn/scikit-learn/issues/21755 */display: inline-block !important;position: relative;}#sk-container-id-1 div.sk-text-repr-fallback {display: none;}</style><div id=\"sk-container-id-1\" class=\"sk-top-container\"><div class=\"sk-text-repr-fallback\"><pre>Pipeline(steps=[(&#x27;tfidf&#x27;, TfidfVectorizer()), (&#x27;clf&#x27;, MultinomialNB())])</pre><b>In a Jupyter environment, please rerun this cell to show the HTML representation or trust the notebook. <br />On GitHub, the HTML representation is unable to render, please try loading this page with nbviewer.org.</b></div><div class=\"sk-container\" hidden><div class=\"sk-item sk-dashed-wrapped\"><div class=\"sk-label-container\"><div class=\"sk-label sk-toggleable\"><input class=\"sk-toggleable__control sk-hidden--visually\" id=\"sk-estimator-id-1\" type=\"checkbox\" ><label for=\"sk-estimator-id-1\" class=\"sk-toggleable__label sk-toggleable__label-arrow\">Pipeline</label><div class=\"sk-toggleable__content\"><pre>Pipeline(steps=[(&#x27;tfidf&#x27;, TfidfVectorizer()), (&#x27;clf&#x27;, MultinomialNB())])</pre></div></div></div><div class=\"sk-serial\"><div class=\"sk-item\"><div class=\"sk-estimator sk-toggleable\"><input class=\"sk-toggleable__control sk-hidden--visually\" id=\"sk-estimator-id-2\" type=\"checkbox\" ><label for=\"sk-estimator-id-2\" class=\"sk-toggleable__label sk-toggleable__label-arrow\">TfidfVectorizer</label><div class=\"sk-toggleable__content\"><pre>TfidfVectorizer()</pre></div></div></div><div class=\"sk-item\"><div class=\"sk-estimator sk-toggleable\"><input class=\"sk-toggleable__control sk-hidden--visually\" id=\"sk-estimator-id-3\" type=\"checkbox\" ><label for=\"sk-estimator-id-3\" class=\"sk-toggleable__label sk-toggleable__label-arrow\">MultinomialNB</label><div class=\"sk-toggleable__content\"><pre>MultinomialNB()</pre></div></div></div></div></div></div></div>"
            ]
          },
          "metadata": {},
          "execution_count": 21
        }
      ]
    },
    {
      "cell_type": "code",
      "source": [
        "#TASK 20: RUN THE PREDICTION FOR NAIVE BAYES MODEL\n",
        "baseline_preds = model_0.predict(val_sentences)"
      ],
      "metadata": {
        "id": "fSURSQ5rK0Mm"
      },
      "execution_count": 22,
      "outputs": []
    },
    {
      "cell_type": "code",
      "source": [
        "# TASK 21: CREATING AN EVALUATION FUNCTION FOR THE MODEL EXPERIENCE.\n",
        "\n",
        "from sklearn.metrics import accuracy_score, precision_recall_fscore_support\n",
        "\n",
        "def calculate_results(y_true, y_pred):\n",
        "  model_accuracy = accuracy_score(y_true, y_pred) * 100\n",
        "  model_precision, model_recall, model_f1, _ = precision_recall_fscore_support(y_true, y_pred, average=\"weighted\")\n",
        "  model_results = {\"accuracy\": model_accuracy, \"precision\": model_precision, \"recall\": model_recall, \"f1\": model_f1}\n",
        "  return model_results\n"
      ],
      "metadata": {
        "id": "-BQlY37MOIOj"
      },
      "execution_count": 23,
      "outputs": []
    },
    {
      "cell_type": "code",
      "source": [
        "# TASK 22: PRINT THE NAIVE BAYES RESULTS\n",
        "baseline_results = calculate_results(val_labels, baseline_preds)\n",
        "baseline_results"
      ],
      "metadata": {
        "colab": {
          "base_uri": "https://localhost:8080/"
        },
        "id": "vzSm3uL4QLkF",
        "outputId": "656cae5c-1bb9-4f52-e1d3-2121c45ad34a"
      },
      "execution_count": 24,
      "outputs": [
        {
          "output_type": "execute_result",
          "data": {
            "text/plain": [
              "{'accuracy': 79.26509186351706,\n",
              " 'precision': 0.8111390004213173,\n",
              " 'recall': 0.7926509186351706,\n",
              " 'f1': 0.7862189758049549}"
            ]
          },
          "metadata": {},
          "execution_count": 24
        }
      ]
    },
    {
      "cell_type": "markdown",
      "source": [
        "# Model 2 - Feed Forward Neural Network (A Simple Dense Model)\n"
      ],
      "metadata": {
        "id": "NGQ0PrRsE7_q"
      }
    },
    {
      "cell_type": "code",
      "source": [
        "# TASK 23: BUILD MODEL WITH FUNCTIONAL API AND ONE WITH VECTORIZED TEXT LAYER  \n",
        "model_2 = tf.keras.models.Sequential(name = \"model_1_dense\")\n",
        "model_2.add(tf.keras.Input(shape=(1,), dtype=tf.string))\n",
        "model_2.add(text_vectorizer)\n",
        "model_2.add(embedding)\n",
        "model_2.add(tf.keras.layers.GlobalMaxPool1D())\n",
        "model_2.add(tf.keras.layers.Dense(1, activation = \"sigmoid\"))\n"
      ],
      "metadata": {
        "id": "sgYF2je3ZDGS"
      },
      "execution_count": 25,
      "outputs": []
    },
    {
      "cell_type": "code",
      "source": [
        "# TASK 24: REPORT THE SUMMARY OF FEED FORWARD NEURAL NETWORK MODEL\n",
        "model_2.summary()"
      ],
      "metadata": {
        "colab": {
          "base_uri": "https://localhost:8080/"
        },
        "id": "lTz8M5iiTjoi",
        "outputId": "f1b2743a-84b3-4053-8d03-dc08f71ea5f3"
      },
      "execution_count": 26,
      "outputs": [
        {
          "output_type": "stream",
          "name": "stdout",
          "text": [
            "Model: \"model_1_dense\"\n",
            "_________________________________________________________________\n",
            " Layer (type)                Output Shape              Param #   \n",
            "=================================================================\n",
            " text_vectorization (TextVec  (None, 15)               0         \n",
            " torization)                                                     \n",
            "                                                                 \n",
            " embedding (Embedding)       (None, 15, 128)           1280000   \n",
            "                                                                 \n",
            " global_max_pooling1d (Globa  (None, 128)              0         \n",
            " lMaxPooling1D)                                                  \n",
            "                                                                 \n",
            " dense (Dense)               (None, 1)                 129       \n",
            "                                                                 \n",
            "=================================================================\n",
            "Total params: 1,280,129\n",
            "Trainable params: 1,280,129\n",
            "Non-trainable params: 0\n",
            "_________________________________________________________________\n"
          ]
        }
      ]
    },
    {
      "cell_type": "code",
      "source": [
        "# TASK 25: COMPILE THE FEED FORWARD NEURAL NETWORK MODEL\n",
        "model_2.compile( loss = 'binary_crossentropy',\n",
        "                optimizer = tf.keras.optimizers.Adam(),\n",
        "                metrics = [\"accuracy\"])\n",
        "\n",
        "# TASK 26: FIT THE FEED FORWARD NEURAL NETWORK MODEL\n",
        "model_2_history = model_2.fit(x = train_sentences,\n",
        "                              y = train_labels,\n",
        "                              epochs = 5,\n",
        "                              validation_data = (val_sentences, val_labels))"
      ],
      "metadata": {
        "colab": {
          "base_uri": "https://localhost:8080/"
        },
        "id": "bFI4JnMAUZDn",
        "outputId": "ab30f45c-f825-4ce1-b591-a036a957beee"
      },
      "execution_count": 27,
      "outputs": [
        {
          "output_type": "stream",
          "name": "stdout",
          "text": [
            "Epoch 1/5\n",
            "215/215 [==============================] - 29s 92ms/step - loss: 0.6414 - accuracy: 0.6490 - val_loss: 0.5786 - val_accuracy: 0.7572\n",
            "Epoch 2/5\n",
            "215/215 [==============================] - 4s 20ms/step - loss: 0.4723 - accuracy: 0.8237 - val_loss: 0.4779 - val_accuracy: 0.7795\n",
            "Epoch 3/5\n",
            "215/215 [==============================] - 2s 7ms/step - loss: 0.3445 - accuracy: 0.8726 - val_loss: 0.4575 - val_accuracy: 0.7874\n",
            "Epoch 4/5\n",
            "215/215 [==============================] - 2s 8ms/step - loss: 0.2612 - accuracy: 0.9066 - val_loss: 0.4617 - val_accuracy: 0.7848\n",
            "Epoch 5/5\n",
            "215/215 [==============================] - 2s 11ms/step - loss: 0.2002 - accuracy: 0.9315 - val_loss: 0.4747 - val_accuracy: 0.7808\n"
          ]
        }
      ]
    },
    {
      "cell_type": "code",
      "source": [
        "# TASK 27: RUN THE PREDICTION FOR FORWARD NEURAL NETWORK MODEL\n",
        "model_2_pred_prob = model_2.predict(val_sentences)\n",
        "model_2_preds = tf.squeeze(tf.round(model_2_pred_prob))\n",
        "\n"
      ],
      "metadata": {
        "colab": {
          "base_uri": "https://localhost:8080/"
        },
        "id": "glN57f4QfiP5",
        "outputId": "fe2158ac-d3fb-448a-8d3c-9d411a7b9e18"
      },
      "execution_count": 28,
      "outputs": [
        {
          "output_type": "stream",
          "name": "stdout",
          "text": [
            "24/24 [==============================] - 0s 2ms/step\n"
          ]
        }
      ]
    },
    {
      "cell_type": "code",
      "source": [
        "#TASK 28: PRINT THE FORWARD NEURAL NETWORK MODEL RESULTS\n",
        "model_2_results = calculate_results(val_labels, model_2_preds)\n",
        "model_2_results"
      ],
      "metadata": {
        "colab": {
          "base_uri": "https://localhost:8080/"
        },
        "id": "VHIq-TFk6gp7",
        "outputId": "9d0e8993-d08d-411f-a994-b76eed31fd96"
      },
      "execution_count": 29,
      "outputs": [
        {
          "output_type": "execute_result",
          "data": {
            "text/plain": [
              "{'accuracy': 78.08398950131233,\n",
              " 'precision': 0.7861251265484451,\n",
              " 'recall': 0.7808398950131233,\n",
              " 'f1': 0.7775280856169867}"
            ]
          },
          "metadata": {},
          "execution_count": 29
        }
      ]
    },
    {
      "cell_type": "markdown",
      "source": [
        "Visualizing word embeddings"
      ],
      "metadata": {
        "id": "wBEEpzDl3Uki"
      }
    },
    {
      "cell_type": "code",
      "source": [
        "# TASK 29: GET VOCABULARY FOR TEXT VECTORIZATION LAYER\n",
        "words_in_vocab = text_vectorizer.get_vocabulary()\n",
        "words_in_vocab[:20]"
      ],
      "metadata": {
        "id": "UlDPD1QBj0Nm",
        "colab": {
          "base_uri": "https://localhost:8080/"
        },
        "outputId": "3d34d61b-c27f-41ad-e724-5d601a7593e6"
      },
      "execution_count": 30,
      "outputs": [
        {
          "output_type": "execute_result",
          "data": {
            "text/plain": [
              "['',\n",
              " '[UNK]',\n",
              " 'the',\n",
              " 'a',\n",
              " 'in',\n",
              " 'to',\n",
              " 'of',\n",
              " 'and',\n",
              " 'i',\n",
              " 'is',\n",
              " 'for',\n",
              " 'on',\n",
              " 'you',\n",
              " 'my',\n",
              " 'with',\n",
              " 'it',\n",
              " 'that',\n",
              " 'at',\n",
              " 'by',\n",
              " 'this']"
            ]
          },
          "metadata": {},
          "execution_count": 30
        }
      ]
    },
    {
      "cell_type": "code",
      "source": [
        "# TASK 30: GET WEIGHT MATRIX OF EMBEDDING LAYER.(These are the numerical representations of each token in our training data)\n",
        "embed_weights = model_2.get_layer(\"embedding\").get_weights()\n"
      ],
      "metadata": {
        "id": "eDivZvm53yVZ"
      },
      "execution_count": 31,
      "outputs": []
    },
    {
      "cell_type": "code",
      "source": [
        "embed_weights"
      ],
      "metadata": {
        "colab": {
          "base_uri": "https://localhost:8080/"
        },
        "id": "-hOgWQYwU89o",
        "outputId": "7e760cf3-07ca-4960-b9a1-0c41edb9c29d"
      },
      "execution_count": 32,
      "outputs": [
        {
          "output_type": "execute_result",
          "data": {
            "text/plain": [
              "[array([[-0.0474339 , -0.04669647,  0.03265423, ..., -0.06183434,\n",
              "          0.12909684, -0.03683797],\n",
              "        [-0.0443836 , -0.03364158,  0.09535538, ..., -0.05356892,\n",
              "          0.111007  , -0.05532487],\n",
              "        [-0.03726501, -0.02981702, -0.04350636, ..., -0.03795834,\n",
              "         -0.01982145, -0.02935583],\n",
              "        ...,\n",
              "        [ 0.04900439,  0.03474971, -0.04659216, ...,  0.00595612,\n",
              "         -0.02293397, -0.04922781],\n",
              "        [ 0.02926738, -0.00396127,  0.04060893, ..., -0.04868818,\n",
              "         -0.04663273,  0.00470752],\n",
              "        [-0.04311817, -0.02426872,  0.03500657, ..., -0.03267614,\n",
              "          0.01374184, -0.0437803 ]], dtype=float32)]"
            ]
          },
          "metadata": {},
          "execution_count": 32
        }
      ]
    },
    {
      "cell_type": "code",
      "source": [
        "# TASK 31: SHAPE OF EMBEDDING LAYER MATRIX.\n",
        "embed_weights[0].shape"
      ],
      "metadata": {
        "id": "ix8MY8HW4Iix",
        "colab": {
          "base_uri": "https://localhost:8080/"
        },
        "outputId": "e6900eda-d7ea-4043-b21a-45726617c6d7"
      },
      "execution_count": 33,
      "outputs": [
        {
          "output_type": "execute_result",
          "data": {
            "text/plain": [
              "(10000, 128)"
            ]
          },
          "metadata": {},
          "execution_count": 33
        }
      ]
    },
    {
      "cell_type": "markdown",
      "source": [
        "# Model - 3 LSTM (RNN) "
      ],
      "metadata": {
        "id": "znGMCZpWEvU4"
      }
    },
    {
      "cell_type": "code",
      "source": [
        "# TASK 32: BUILD MODEL FOR RNN MODEL USING LSTM\n",
        "from tensorflow.keras import layers\n",
        "model_3 = tf.keras.models.Sequential(name = \"model_3_dense\")\n",
        "model_3.add(tf.keras.Input(shape=(1,), dtype=tf.string))\n",
        "model_3.add(text_vectorizer)\n",
        "model_3.add(embedding)\n",
        "#model_2.add(tf.keras.layers.LSTM(64, return_sequences = True))\n",
        "model_3.add(tf.keras.layers.LSTM(64))\n",
        "model_3.add(tf.keras.layers.Dense(1, activation = \"sigmoid\"))\n"
      ],
      "metadata": {
        "id": "je6uu9lO4RCN"
      },
      "execution_count": 34,
      "outputs": []
    },
    {
      "cell_type": "code",
      "source": [
        "#TASK 33: REPORT THE SUMMARY OF RNN MODEL USING LSTM\n",
        "model_3.summary()"
      ],
      "metadata": {
        "id": "q8u4ikdfFK1G",
        "colab": {
          "base_uri": "https://localhost:8080/"
        },
        "outputId": "d7b6e31b-3c83-4042-be2d-a516fa99b9a3"
      },
      "execution_count": 35,
      "outputs": [
        {
          "output_type": "stream",
          "name": "stdout",
          "text": [
            "Model: \"model_3_dense\"\n",
            "_________________________________________________________________\n",
            " Layer (type)                Output Shape              Param #   \n",
            "=================================================================\n",
            " text_vectorization (TextVec  (None, 15)               0         \n",
            " torization)                                                     \n",
            "                                                                 \n",
            " embedding (Embedding)       (None, 15, 128)           1280000   \n",
            "                                                                 \n",
            " lstm (LSTM)                 (None, 64)                49408     \n",
            "                                                                 \n",
            " dense_1 (Dense)             (None, 1)                 65        \n",
            "                                                                 \n",
            "=================================================================\n",
            "Total params: 1,329,473\n",
            "Trainable params: 1,329,473\n",
            "Non-trainable params: 0\n",
            "_________________________________________________________________\n"
          ]
        }
      ]
    },
    {
      "cell_type": "code",
      "source": [
        "# TASK 34: COMPILE RNN MODEL USING LSTM\n",
        "model_3.compile( loss = 'binary_crossentropy',\n",
        "                optimizer = tf.keras.optimizers.Adam(),\n",
        "                metrics = [\"accuracy\"])"
      ],
      "metadata": {
        "id": "ThiWCsEZ7fgW"
      },
      "execution_count": 36,
      "outputs": []
    },
    {
      "cell_type": "code",
      "source": [
        "#TASK 35: FIT THE RNN MODEL USING LSTM\n",
        "model_3_history = model_3.fit(x = train_sentences,\n",
        "                              y = train_labels,\n",
        "                              epochs = 5,\n",
        "                              validation_data = (val_sentences, val_labels))"
      ],
      "metadata": {
        "id": "DOuL48KwFiYh",
        "colab": {
          "base_uri": "https://localhost:8080/"
        },
        "outputId": "8dda476e-289f-40c9-d35a-037f0b2f9eb9"
      },
      "execution_count": 37,
      "outputs": [
        {
          "output_type": "stream",
          "name": "stdout",
          "text": [
            "Epoch 1/5\n",
            "215/215 [==============================] - 17s 62ms/step - loss: 0.3780 - accuracy: 0.8313 - val_loss: 0.5219 - val_accuracy: 0.7848\n",
            "Epoch 2/5\n",
            "215/215 [==============================] - 3s 12ms/step - loss: 0.2437 - accuracy: 0.9048 - val_loss: 0.5085 - val_accuracy: 0.7874\n",
            "Epoch 3/5\n",
            "215/215 [==============================] - 2s 11ms/step - loss: 0.1743 - accuracy: 0.9369 - val_loss: 0.5815 - val_accuracy: 0.7795\n",
            "Epoch 4/5\n",
            "215/215 [==============================] - 2s 10ms/step - loss: 0.1350 - accuracy: 0.9514 - val_loss: 0.6416 - val_accuracy: 0.7756\n",
            "Epoch 5/5\n",
            "215/215 [==============================] - 2s 9ms/step - loss: 0.1019 - accuracy: 0.9626 - val_loss: 0.9651 - val_accuracy: 0.7638\n"
          ]
        }
      ]
    },
    {
      "cell_type": "code",
      "source": [
        "# TASK 36: RUN THE PREDICTION FOR RNN MODEL USING LSTM\n",
        "model_3_pred_prob = model_3.predict(val_sentences)\n",
        "model_3_preds = tf.squeeze(tf.round(model_3_pred_prob))"
      ],
      "metadata": {
        "id": "6jRuzRFc8GY2",
        "colab": {
          "base_uri": "https://localhost:8080/"
        },
        "outputId": "f1f650ca-50d0-4133-8bed-a0443b029731"
      },
      "execution_count": 38,
      "outputs": [
        {
          "output_type": "stream",
          "name": "stdout",
          "text": [
            "24/24 [==============================] - 0s 3ms/step\n"
          ]
        }
      ]
    },
    {
      "cell_type": "code",
      "source": [
        "#TASK 37: PRINT THE RNN MODEL USING LSTM RESULTS\n",
        "model_3_results = calculate_results(val_labels, model_3_preds)\n",
        "model_3_results"
      ],
      "metadata": {
        "id": "vo8ougBqIHoQ",
        "colab": {
          "base_uri": "https://localhost:8080/"
        },
        "outputId": "0786dd24-eb7e-4ecd-8073-3bb2596f341e"
      },
      "execution_count": 39,
      "outputs": [
        {
          "output_type": "execute_result",
          "data": {
            "text/plain": [
              "{'accuracy': 76.37795275590551,\n",
              " 'precision': 0.765729922717656,\n",
              " 'recall': 0.7637795275590551,\n",
              " 'f1': 0.7613639638656104}"
            ]
          },
          "metadata": {},
          "execution_count": 39
        }
      ]
    },
    {
      "cell_type": "markdown",
      "source": [
        "# Model - 4 GRU (RNN) "
      ],
      "metadata": {
        "id": "pX0gbv1eKIYU"
      }
    },
    {
      "cell_type": "code",
      "source": [
        "# TASK 38: BUILD MODEL FOR RNN MODEL USING GRU\n",
        "model_4 = tf.keras.models.Sequential(name = \"model_4_dense\")\n",
        "model_4.add(tf.keras.Input(shape=(1,), dtype=tf.string))\n",
        "model_4.add(text_vectorizer)\n",
        "model_4.add(embedding)\n",
        "model_4.add(tf.keras.layers.GRU(64, return_sequences = True))\n",
        "model_4.add(tf.keras.layers.GRU(64))\n",
        "model_4.add(tf.keras.layers.Dense(1, activation = \"sigmoid\"))\n"
      ],
      "metadata": {
        "id": "MD6jlXlSJh0w"
      },
      "execution_count": 40,
      "outputs": []
    },
    {
      "cell_type": "code",
      "source": [
        "#TASK 39: REPORT THE SUMMARY OF RNN MODEL USING GRU\n",
        "model_4.summary()"
      ],
      "metadata": {
        "id": "cEVacqrPMuD9",
        "colab": {
          "base_uri": "https://localhost:8080/"
        },
        "outputId": "333268ff-6d74-40d5-f7d2-a69227d853c2"
      },
      "execution_count": 41,
      "outputs": [
        {
          "output_type": "stream",
          "name": "stdout",
          "text": [
            "Model: \"model_4_dense\"\n",
            "_________________________________________________________________\n",
            " Layer (type)                Output Shape              Param #   \n",
            "=================================================================\n",
            " text_vectorization (TextVec  (None, 15)               0         \n",
            " torization)                                                     \n",
            "                                                                 \n",
            " embedding (Embedding)       (None, 15, 128)           1280000   \n",
            "                                                                 \n",
            " gru (GRU)                   (None, 15, 64)            37248     \n",
            "                                                                 \n",
            " gru_1 (GRU)                 (None, 64)                24960     \n",
            "                                                                 \n",
            " dense_2 (Dense)             (None, 1)                 65        \n",
            "                                                                 \n",
            "=================================================================\n",
            "Total params: 1,342,273\n",
            "Trainable params: 1,342,273\n",
            "Non-trainable params: 0\n",
            "_________________________________________________________________\n"
          ]
        }
      ]
    },
    {
      "cell_type": "code",
      "source": [
        "# TASK 40: COMPILE RNN MODEL USING GRU\n",
        "model_4.compile( loss = 'binary_crossentropy',\n",
        "                optimizer = tf.keras.optimizers.Adam(),\n",
        "                metrics = [\"accuracy\"])"
      ],
      "metadata": {
        "id": "IYdH2TfZ8MqY"
      },
      "execution_count": 42,
      "outputs": []
    },
    {
      "cell_type": "code",
      "source": [
        "#TASK 41: FIT THE RNN MODEL USING GRU\n",
        "model_4_history = model_4.fit(x = train_sentences,\n",
        "                              y = train_labels,\n",
        "                              epochs = 5,\n",
        "                              validation_data = (val_sentences, val_labels))"
      ],
      "metadata": {
        "id": "VGPAQO8DMwVw",
        "colab": {
          "base_uri": "https://localhost:8080/"
        },
        "outputId": "4ec8ae5d-7c05-4620-810b-0997aa0e3308"
      },
      "execution_count": 43,
      "outputs": [
        {
          "output_type": "stream",
          "name": "stdout",
          "text": [
            "Epoch 1/5\n",
            "215/215 [==============================] - 17s 59ms/step - loss: 0.1886 - accuracy: 0.9259 - val_loss: 0.7010 - val_accuracy: 0.7690\n",
            "Epoch 2/5\n",
            "215/215 [==============================] - 4s 19ms/step - loss: 0.1020 - accuracy: 0.9647 - val_loss: 0.7971 - val_accuracy: 0.7664\n",
            "Epoch 3/5\n",
            "215/215 [==============================] - 2s 11ms/step - loss: 0.0783 - accuracy: 0.9717 - val_loss: 0.9814 - val_accuracy: 0.7638\n",
            "Epoch 4/5\n",
            "215/215 [==============================] - 3s 16ms/step - loss: 0.0654 - accuracy: 0.9753 - val_loss: 1.2784 - val_accuracy: 0.7585\n",
            "Epoch 5/5\n",
            "215/215 [==============================] - 2s 11ms/step - loss: 0.0570 - accuracy: 0.9758 - val_loss: 1.1803 - val_accuracy: 0.7598\n"
          ]
        }
      ]
    },
    {
      "cell_type": "code",
      "source": [
        "# TASK 42: RUN THE PREDICTION FOR RNN MODEL USING GRU\n",
        "model_4_pred_prob = model_4.predict(val_sentences)\n",
        "model_4_preds = tf.squeeze(tf.round(model_4_pred_prob))"
      ],
      "metadata": {
        "id": "GTkMrGbV8Qcn",
        "colab": {
          "base_uri": "https://localhost:8080/"
        },
        "outputId": "6c73bb00-73ea-45e1-e1ad-5496a19b5c88"
      },
      "execution_count": 44,
      "outputs": [
        {
          "output_type": "stream",
          "name": "stdout",
          "text": [
            "24/24 [==============================] - 1s 3ms/step\n"
          ]
        }
      ]
    },
    {
      "cell_type": "code",
      "source": [
        "# TASK 43: PRINT THE RNN MODEL USING GRU RESULTS\n",
        "model_4_results = calculate_results(val_labels, model_4_preds)\n",
        "model_4_results"
      ],
      "metadata": {
        "id": "6_2yQGC7NJZ6",
        "colab": {
          "base_uri": "https://localhost:8080/"
        },
        "outputId": "bb2bcf04-ead3-4f31-8168-2a8108c03932"
      },
      "execution_count": 45,
      "outputs": [
        {
          "output_type": "execute_result",
          "data": {
            "text/plain": [
              "{'accuracy': 75.98425196850394,\n",
              " 'precision': 0.7604578907479682,\n",
              " 'recall': 0.7598425196850394,\n",
              " 'f1': 0.758116023760764}"
            ]
          },
          "metadata": {},
          "execution_count": 45
        }
      ]
    },
    {
      "cell_type": "markdown",
      "source": [
        "# Model - 5 Bidirectional LSTM (RNN)\n"
      ],
      "metadata": {
        "id": "nGvaHlnFPbik"
      }
    },
    {
      "cell_type": "code",
      "source": [
        "#TASK 44: BUILD MODEL FOR RNN USING BIDIRECTIONAL LSTM\n",
        "model_5 = tf.keras.models.Sequential(name = \"model_5_bidirectional\")\n",
        "model_5.add(tf.keras.Input(shape=(1,), dtype=tf.string))\n",
        "model_5.add(text_vectorizer)\n",
        "model_5.add(embedding)\n",
        "model_5.add(tf.keras.layers.Bidirectional(tf.keras.layers.LSTM(64)))\n",
        "model_5.add(tf.keras.layers.Dense(1, activation = \"sigmoid\"))"
      ],
      "metadata": {
        "id": "d8gpt40DNrQl"
      },
      "execution_count": 46,
      "outputs": []
    },
    {
      "cell_type": "code",
      "source": [
        "#TASK 45: REPORT THE SUMMARY OF RNN MODEL USING BIDIRECTIONAL LSTM.\n",
        "model_5.summary()"
      ],
      "metadata": {
        "id": "YGFUnwQNdK1h",
        "colab": {
          "base_uri": "https://localhost:8080/"
        },
        "outputId": "94eb020f-8f76-40ff-c05b-9c9efb35e64e"
      },
      "execution_count": 47,
      "outputs": [
        {
          "output_type": "stream",
          "name": "stdout",
          "text": [
            "Model: \"model_5_bidirectional\"\n",
            "_________________________________________________________________\n",
            " Layer (type)                Output Shape              Param #   \n",
            "=================================================================\n",
            " text_vectorization (TextVec  (None, 15)               0         \n",
            " torization)                                                     \n",
            "                                                                 \n",
            " embedding (Embedding)       (None, 15, 128)           1280000   \n",
            "                                                                 \n",
            " bidirectional (Bidirectiona  (None, 128)              98816     \n",
            " l)                                                              \n",
            "                                                                 \n",
            " dense_3 (Dense)             (None, 1)                 129       \n",
            "                                                                 \n",
            "=================================================================\n",
            "Total params: 1,378,945\n",
            "Trainable params: 1,378,945\n",
            "Non-trainable params: 0\n",
            "_________________________________________________________________\n"
          ]
        }
      ]
    },
    {
      "cell_type": "code",
      "source": [
        "# TASK 46: COMPILE RNN MODEL USING BIDIRECTIONAL LSTM.\n",
        "model_5.compile( loss = 'binary_crossentropy',\n",
        "                optimizer = tf.keras.optimizers.Adam(),\n",
        "                metrics = [\"accuracy\"])"
      ],
      "metadata": {
        "id": "wGq4SYCr9rQd"
      },
      "execution_count": 48,
      "outputs": []
    },
    {
      "cell_type": "code",
      "source": [
        "#TASK 47: FIT THE RNN MODEL USING BIDIRECTIONAL LSTM.\n",
        "model_5_history = model_5.fit(x = train_sentences,\n",
        "                              y = train_labels,\n",
        "                              epochs = 5,\n",
        "                              validation_data = (val_sentences, val_labels))"
      ],
      "metadata": {
        "id": "v1Awu8jUdYDQ",
        "colab": {
          "base_uri": "https://localhost:8080/"
        },
        "outputId": "e65cdd5a-9525-4490-e74a-f15ef65ff097"
      },
      "execution_count": 49,
      "outputs": [
        {
          "output_type": "stream",
          "name": "stdout",
          "text": [
            "Epoch 1/5\n",
            "215/215 [==============================] - 20s 73ms/step - loss: 0.1345 - accuracy: 0.9504 - val_loss: 1.0285 - val_accuracy: 0.7638\n",
            "Epoch 2/5\n",
            "215/215 [==============================] - 5s 21ms/step - loss: 0.0595 - accuracy: 0.9759 - val_loss: 1.2614 - val_accuracy: 0.7520\n",
            "Epoch 3/5\n",
            "215/215 [==============================] - 2s 10ms/step - loss: 0.0559 - accuracy: 0.9745 - val_loss: 1.2072 - val_accuracy: 0.7572\n",
            "Epoch 4/5\n",
            "215/215 [==============================] - 3s 12ms/step - loss: 0.0479 - accuracy: 0.9777 - val_loss: 1.4227 - val_accuracy: 0.7598\n",
            "Epoch 5/5\n",
            "215/215 [==============================] - 2s 10ms/step - loss: 0.0476 - accuracy: 0.9799 - val_loss: 1.3863 - val_accuracy: 0.7651\n"
          ]
        }
      ]
    },
    {
      "cell_type": "code",
      "source": [
        "# TASK 48: RUN THE PREDICTION FOR RNN MODEL USING BIDIRECTIONAL LSTM.\n",
        "model_5_pred_prob = model_5.predict(val_sentences)\n",
        "model_5_preds = tf.squeeze(tf.round(model_5_pred_prob))"
      ],
      "metadata": {
        "id": "vl21YDy494m0",
        "colab": {
          "base_uri": "https://localhost:8080/"
        },
        "outputId": "4dfd3578-2013-4b58-b9f8-4c550c772860"
      },
      "execution_count": 50,
      "outputs": [
        {
          "output_type": "stream",
          "name": "stdout",
          "text": [
            "24/24 [==============================] - 2s 6ms/step\n"
          ]
        }
      ]
    },
    {
      "cell_type": "code",
      "source": [
        "#TASK 49: PRINT THE RNN MODEL USING BIDIRECTIONAL LSTM RESULTS.\n",
        "model_5_results = calculate_results(val_labels, model_5_preds)\n",
        "model_5_results"
      ],
      "metadata": {
        "id": "maKYQJjVeSfk",
        "colab": {
          "base_uri": "https://localhost:8080/"
        },
        "outputId": "f108f472-0040-4a85-916c-7c5ae10ac282"
      },
      "execution_count": 51,
      "outputs": [
        {
          "output_type": "execute_result",
          "data": {
            "text/plain": [
              "{'accuracy': 76.50918635170603,\n",
              " 'precision': 0.769637074539757,\n",
              " 'recall': 0.7650918635170604,\n",
              " 'f1': 0.7615420797930578}"
            ]
          },
          "metadata": {},
          "execution_count": 51
        }
      ]
    },
    {
      "cell_type": "markdown",
      "source": [
        "# Convolutional Neural Networks for Text\n",
        "\n",
        "#Model 6\n",
        "\n",
        "Inputs -> Tokensization -> Embedding -> (conv1d+pooling) layers -> output"
      ],
      "metadata": {
        "id": "4CKejqgtnl2P"
      }
    },
    {
      "cell_type": "code",
      "source": [
        "#TASK 50: BUILD MODEL FOR CNN MODEL\n",
        "\n",
        "model_6 = tf.keras.models.Sequential(name = \"model_6_CNN\")\n",
        "model_6.add(tf.keras.Input(shape=(1,), dtype=tf.string))\n",
        "model_6.add(text_vectorizer)\n",
        "model_6.add(embedding)\n",
        "model_6.add(tf.keras.layers.Conv1D(filters = 128, kernel_size=5, strides=1, activation = \"relu\", padding = \"valid\"))\n",
        "model_6.add(tf.keras.layers.GlobalMaxPool1D())\n",
        "model_6.add(tf.keras.layers.Dense(64, activation = \"relu\"))\n",
        "model_6.add(tf.keras.layers.Dense(1, activation = \"sigmoid\"))"
      ],
      "metadata": {
        "id": "vYbpAw1xedj0"
      },
      "execution_count": 52,
      "outputs": []
    },
    {
      "cell_type": "code",
      "source": [
        "#TASK 51: REPORT THE SUMMARY OF CNN MODEL \n",
        "model_6.summary()"
      ],
      "metadata": {
        "id": "rAnesdCjwua1",
        "colab": {
          "base_uri": "https://localhost:8080/"
        },
        "outputId": "75a80ec9-3aef-4a21-d1b1-55afa395ee19"
      },
      "execution_count": 53,
      "outputs": [
        {
          "output_type": "stream",
          "name": "stdout",
          "text": [
            "Model: \"model_6_CNN\"\n",
            "_________________________________________________________________\n",
            " Layer (type)                Output Shape              Param #   \n",
            "=================================================================\n",
            " text_vectorization (TextVec  (None, 15)               0         \n",
            " torization)                                                     \n",
            "                                                                 \n",
            " embedding (Embedding)       (None, 15, 128)           1280000   \n",
            "                                                                 \n",
            " conv1d (Conv1D)             (None, 11, 128)           82048     \n",
            "                                                                 \n",
            " global_max_pooling1d_1 (Glo  (None, 128)              0         \n",
            " balMaxPooling1D)                                                \n",
            "                                                                 \n",
            " dense_4 (Dense)             (None, 64)                8256      \n",
            "                                                                 \n",
            " dense_5 (Dense)             (None, 1)                 65        \n",
            "                                                                 \n",
            "=================================================================\n",
            "Total params: 1,370,369\n",
            "Trainable params: 1,370,369\n",
            "Non-trainable params: 0\n",
            "_________________________________________________________________\n"
          ]
        }
      ]
    },
    {
      "cell_type": "code",
      "source": [
        "# TASK 52: COMPILE CNN MODEL \n",
        "model_6.compile( loss = 'binary_crossentropy',\n",
        "                optimizer = tf.keras.optimizers.Adam(),\n",
        "                metrics = [\"accuracy\"])"
      ],
      "metadata": {
        "id": "CimLUGXY-UC2"
      },
      "execution_count": 54,
      "outputs": []
    },
    {
      "cell_type": "code",
      "source": [
        "# TASK 53: FIT CNN MODEL\n",
        "model_6_history = model_5.fit(x = train_sentences,\n",
        "                              y = train_labels,\n",
        "                              epochs = 5,\n",
        "                              validation_data = (val_sentences, val_labels))"
      ],
      "metadata": {
        "id": "o3mv1TSiwRlV",
        "colab": {
          "base_uri": "https://localhost:8080/"
        },
        "outputId": "ad71759b-39ef-4bd9-ad77-132f1cab6645"
      },
      "execution_count": 55,
      "outputs": [
        {
          "output_type": "stream",
          "name": "stdout",
          "text": [
            "Epoch 1/5\n",
            "215/215 [==============================] - 4s 19ms/step - loss: 0.0425 - accuracy: 0.9803 - val_loss: 1.5261 - val_accuracy: 0.7625\n",
            "Epoch 2/5\n",
            "215/215 [==============================] - 4s 17ms/step - loss: 0.0366 - accuracy: 0.9825 - val_loss: 1.5682 - val_accuracy: 0.7677\n",
            "Epoch 3/5\n",
            "215/215 [==============================] - 5s 22ms/step - loss: 0.0344 - accuracy: 0.9837 - val_loss: 1.5457 - val_accuracy: 0.7638\n",
            "Epoch 4/5\n",
            "215/215 [==============================] - 2s 9ms/step - loss: 0.0365 - accuracy: 0.9823 - val_loss: 1.6790 - val_accuracy: 0.7415\n",
            "Epoch 5/5\n",
            "215/215 [==============================] - 2s 9ms/step - loss: 0.0320 - accuracy: 0.9845 - val_loss: 1.8644 - val_accuracy: 0.7559\n"
          ]
        }
      ]
    },
    {
      "cell_type": "code",
      "source": [
        "# TASK 54: RUN THE PREDICTION FOR CNN MODEL \n",
        "model_6_pred_prob = model_6.predict(val_sentences)\n",
        "model_6_preds = tf.squeeze(tf.round(model_6_pred_prob))"
      ],
      "metadata": {
        "id": "XSScjcZq-dgT",
        "colab": {
          "base_uri": "https://localhost:8080/"
        },
        "outputId": "1f35a30f-fa48-4149-8fae-73f17d1351bd"
      },
      "execution_count": 56,
      "outputs": [
        {
          "output_type": "stream",
          "name": "stdout",
          "text": [
            "24/24 [==============================] - 3s 4ms/step\n"
          ]
        }
      ]
    },
    {
      "cell_type": "code",
      "source": [
        "# TASK 55: PRINT THE CNN MODEL RESULTS\n",
        "model_6_results = calculate_results(val_labels, model_6_preds)\n",
        "model_6_results"
      ],
      "metadata": {
        "id": "FIc5M-vLwk8o",
        "colab": {
          "base_uri": "https://localhost:8080/"
        },
        "outputId": "2d31af4c-f68b-483d-803d-327850b551f0"
      },
      "execution_count": 57,
      "outputs": [
        {
          "output_type": "execute_result",
          "data": {
            "text/plain": [
              "{'accuracy': 51.96850393700787,\n",
              " 'precision': 0.38080547308635604,\n",
              " 'recall': 0.5196850393700787,\n",
              " 'f1': 0.38428835139063117}"
            ]
          },
          "metadata": {},
          "execution_count": 57
        }
      ]
    },
    {
      "cell_type": "markdown",
      "source": [
        "# Model 7 - Tensorflow Hub Pretrained Sentence Encoder\n",
        "\n",
        "Inputs -> Embedding layer (USE from TensforFlow Hub) -> Dense Layer(Decodes the sequences into desired output) -> Outputs "
      ],
      "metadata": {
        "id": "P0rAaPPLKl07"
      }
    },
    {
      "cell_type": "code",
      "source": [
        "# TASK 56: LOAD PRETRAINED SENTENCE ENCODER\n",
        "import tensorflow_hub as hub\n",
        "\n",
        "embed = hub.load(\"https://tfhub.dev/google/universal-sentence-encoder/4\")\n",
        "embeddings = embed([\n",
        "    \"The quick brown fox jumps over the lazy dog.\",\n",
        "    \"I am a sentence for which I would like to get its embedding\"])"
      ],
      "metadata": {
        "id": "JtJQ3BNm_Aeg"
      },
      "execution_count": 58,
      "outputs": []
    },
    {
      "cell_type": "code",
      "source": [
        "#TASK 57: PRINT SHAPE SAMPLE EMBEDDINGS \n",
        "\n",
        "print(embeddings[0].shape)"
      ],
      "metadata": {
        "id": "VqIuv2vAxTzH",
        "colab": {
          "base_uri": "https://localhost:8080/"
        },
        "outputId": "5cc061fe-c2f4-4b5b-fb71-21e2a39556fc"
      },
      "execution_count": 59,
      "outputs": [
        {
          "output_type": "stream",
          "name": "stdout",
          "text": [
            "(512,)\n"
          ]
        }
      ]
    },
    {
      "cell_type": "markdown",
      "source": [
        "**Using Transfer Learning for NLP, specially using tensorflow Hub's universal sentence encoder**"
      ],
      "metadata": {
        "id": "-_sC6SRNQDUR"
      }
    },
    {
      "cell_type": "code",
      "source": [
        "# TASK 58: CREATE A MODEL USING TENSORFLOW'S SENTENCE ENCODER\n",
        "sentence_encoder_layer = hub.KerasLayer(\"https://tfhub.dev/google/universal-sentence-encoder/4\",\n",
        "                                        input_shape=[],\n",
        "                                        dtype = tf.string,\n",
        "                                        trainable = False,\n",
        "                                        name = \"USE\"\n",
        "                                        )\n"
      ],
      "metadata": {
        "id": "t417Xhg9PYFz"
      },
      "execution_count": 60,
      "outputs": []
    },
    {
      "cell_type": "code",
      "source": [
        "# TASK 60: BUILD THE MODEL BY ADDING APPROPRIATE LAYERS TO SENTENCE ENCODER MODEL\n",
        "model_7 = tf.keras.models.Sequential([\n",
        "    sentence_encoder_layer,\n",
        "    tf.keras.layers.Dense(128, activation=\"relu\"),\n",
        "    tf.keras.layers.Dense(1, activation = \"sigmoid\")\n",
        "], name = \"model_7_USE\")"
      ],
      "metadata": {
        "id": "RFynGEWs_1XM"
      },
      "execution_count": 61,
      "outputs": []
    },
    {
      "cell_type": "code",
      "source": [
        "# TASK 61: COMPILE THE UNIVERSAL SENTENCE ENCODER MODEL\n",
        "model_7.compile(loss = 'binary_crossentropy',\n",
        "                optimizer = tf.keras.optimizers.Adam(),\n",
        "                metrics = [\"accuracy\"])"
      ],
      "metadata": {
        "id": "x3DOVtVF_2Un"
      },
      "execution_count": 62,
      "outputs": []
    },
    {
      "cell_type": "code",
      "source": [
        "#TASK 62: REPORT SUMMARY OF UNIVERSAL SENTENCE ENCODER MODEL\n",
        "model_7.summary()"
      ],
      "metadata": {
        "id": "W1i-e2RfT4TP",
        "colab": {
          "base_uri": "https://localhost:8080/"
        },
        "outputId": "86178446-409b-4da2-b51b-3158d56bad75"
      },
      "execution_count": 63,
      "outputs": [
        {
          "output_type": "stream",
          "name": "stdout",
          "text": [
            "Model: \"model_7_USE\"\n",
            "_________________________________________________________________\n",
            " Layer (type)                Output Shape              Param #   \n",
            "=================================================================\n",
            " USE (KerasLayer)            (None, 512)               256797824 \n",
            "                                                                 \n",
            " dense_6 (Dense)             (None, 128)               65664     \n",
            "                                                                 \n",
            " dense_7 (Dense)             (None, 1)                 129       \n",
            "                                                                 \n",
            "=================================================================\n",
            "Total params: 256,863,617\n",
            "Trainable params: 65,793\n",
            "Non-trainable params: 256,797,824\n",
            "_________________________________________________________________\n"
          ]
        }
      ]
    },
    {
      "cell_type": "code",
      "source": [
        "# TASK 63: FIT THE UNIVERSAL SENTENCE ENCODER MODEL\n",
        "model_7_history = model_7.fit(x = train_sentences,\n",
        "                              y = train_labels,\n",
        "                              epochs = 15,\n",
        "                              validation_data = (val_sentences, val_labels))"
      ],
      "metadata": {
        "id": "iO6GNAiZUYu_",
        "colab": {
          "base_uri": "https://localhost:8080/"
        },
        "outputId": "71016c2a-8d47-4229-8ccf-92fbf2038348"
      },
      "execution_count": 64,
      "outputs": [
        {
          "output_type": "stream",
          "name": "stdout",
          "text": [
            "Epoch 1/15\n",
            "215/215 [==============================] - 6s 14ms/step - loss: 0.4879 - accuracy: 0.7875 - val_loss: 0.4470 - val_accuracy: 0.7979\n",
            "Epoch 2/15\n",
            "215/215 [==============================] - 3s 13ms/step - loss: 0.4088 - accuracy: 0.8180 - val_loss: 0.4307 - val_accuracy: 0.8110\n",
            "Epoch 3/15\n",
            "215/215 [==============================] - 4s 17ms/step - loss: 0.3957 - accuracy: 0.8251 - val_loss: 0.4253 - val_accuracy: 0.8150\n",
            "Epoch 4/15\n",
            "215/215 [==============================] - 3s 12ms/step - loss: 0.3835 - accuracy: 0.8305 - val_loss: 0.4230 - val_accuracy: 0.8189\n",
            "Epoch 5/15\n",
            "215/215 [==============================] - 2s 11ms/step - loss: 0.3745 - accuracy: 0.8339 - val_loss: 0.4329 - val_accuracy: 0.8163\n",
            "Epoch 6/15\n",
            "215/215 [==============================] - 3s 12ms/step - loss: 0.3639 - accuracy: 0.8389 - val_loss: 0.4328 - val_accuracy: 0.8110\n",
            "Epoch 7/15\n",
            "215/215 [==============================] - 3s 15ms/step - loss: 0.3542 - accuracy: 0.8485 - val_loss: 0.4221 - val_accuracy: 0.8281\n",
            "Epoch 8/15\n",
            "215/215 [==============================] - 3s 14ms/step - loss: 0.3445 - accuracy: 0.8501 - val_loss: 0.4273 - val_accuracy: 0.8281\n",
            "Epoch 9/15\n",
            "215/215 [==============================] - 3s 12ms/step - loss: 0.3335 - accuracy: 0.8558 - val_loss: 0.4236 - val_accuracy: 0.8228\n",
            "Epoch 10/15\n",
            "215/215 [==============================] - 3s 12ms/step - loss: 0.3223 - accuracy: 0.8621 - val_loss: 0.4308 - val_accuracy: 0.8176\n",
            "Epoch 11/15\n",
            "215/215 [==============================] - 3s 13ms/step - loss: 0.3110 - accuracy: 0.8682 - val_loss: 0.4285 - val_accuracy: 0.8202\n",
            "Epoch 12/15\n",
            "215/215 [==============================] - 5s 22ms/step - loss: 0.2991 - accuracy: 0.8716 - val_loss: 0.4407 - val_accuracy: 0.8150\n",
            "Epoch 13/15\n",
            "215/215 [==============================] - 3s 15ms/step - loss: 0.2870 - accuracy: 0.8844 - val_loss: 0.4501 - val_accuracy: 0.8202\n",
            "Epoch 14/15\n",
            "215/215 [==============================] - 3s 13ms/step - loss: 0.2731 - accuracy: 0.8899 - val_loss: 0.4425 - val_accuracy: 0.8176\n",
            "Epoch 15/15\n",
            "215/215 [==============================] - 3s 15ms/step - loss: 0.2623 - accuracy: 0.8955 - val_loss: 0.4514 - val_accuracy: 0.8202\n"
          ]
        }
      ]
    },
    {
      "cell_type": "code",
      "source": [
        "# TASK 64: RUN THE PREDICTION FOR UNIVERSAL SENTENCE ENCODER MODEL\n",
        "model_7_pred_prob = model_7.predict(val_sentences)\n",
        "model_7_preds = tf.squeeze(tf.round(model_7_pred_prob))"
      ],
      "metadata": {
        "id": "ycsXl_ICAVRW",
        "colab": {
          "base_uri": "https://localhost:8080/"
        },
        "outputId": "6f66180f-d32e-4c8f-a12b-ecaa984f6448"
      },
      "execution_count": 65,
      "outputs": [
        {
          "output_type": "stream",
          "name": "stdout",
          "text": [
            "24/24 [==============================] - 1s 9ms/step\n"
          ]
        }
      ]
    },
    {
      "cell_type": "code",
      "source": [
        "# TASK 65: PRINT THE UNIVERSAL SENTENCE ENCODER MODEL RESULTS\n",
        "model_7_results = calculate_results(val_labels, model_7_preds)\n",
        "model_7_results"
      ],
      "metadata": {
        "id": "5CDB4agfU2dD",
        "colab": {
          "base_uri": "https://localhost:8080/"
        },
        "outputId": "50b9a2f8-e75a-41f1-adda-d193c0401e86"
      },
      "execution_count": 66,
      "outputs": [
        {
          "output_type": "execute_result",
          "data": {
            "text/plain": [
              "{'accuracy': 82.02099737532808,\n",
              " 'precision': 0.8226273514784717,\n",
              " 'recall': 0.8202099737532809,\n",
              " 'f1': 0.8187283797448478}"
            ]
          },
          "metadata": {},
          "execution_count": 66
        }
      ]
    },
    {
      "cell_type": "markdown",
      "source": [
        "# Model 7: TF HUb Pretrained USE but with 10% of the data"
      ],
      "metadata": {
        "id": "r4v31mJbhUmx"
      }
    },
    {
      "cell_type": "code",
      "source": [
        "# TASK 66: SPLIT 10% TRAINING DATA FOR TF - UNIVERSAL SENTENCE ENCODER MODEL\n",
        "train_10_percent_split = int(len(train_sentences)*0.10)\n",
        "train_sentences_10_percent =  train_sentences[:train_10_percent_split]\n",
        "train_labels_10_percent = train_labels[:train_10_percent_split]"
      ],
      "metadata": {
        "id": "ZYr5aekzXMJF"
      },
      "execution_count": 67,
      "outputs": []
    },
    {
      "cell_type": "code",
      "source": [
        "# TASK 67: CLONE THE MODEL 7 ABOVE.\n",
        "model_8 = tf.keras.models.clone_model(model_7)\n"
      ],
      "metadata": {
        "id": "fOvhi1luB4vj"
      },
      "execution_count": 68,
      "outputs": []
    },
    {
      "cell_type": "code",
      "source": [
        "# TASK 68: COMPILE THE 10% TF-USE MODEL.\n",
        "model_8.compile(loss = 'binary_crossentropy',\n",
        "                optimizer = tf.keras.optimizers.Adam(),\n",
        "                metrics = [\"accuracy\"])"
      ],
      "metadata": {
        "id": "1P_qfOZqB30c"
      },
      "execution_count": 69,
      "outputs": []
    },
    {
      "cell_type": "code",
      "source": [
        "# TASK 69: REPORT THE SUMMARY OF 10% TF-USE MODEL.\n",
        "model_8.summary()"
      ],
      "metadata": {
        "id": "YM80vz3kiFPY",
        "colab": {
          "base_uri": "https://localhost:8080/"
        },
        "outputId": "3d296fd7-e120-40aa-bbaf-fb05126e2a6a"
      },
      "execution_count": 70,
      "outputs": [
        {
          "output_type": "stream",
          "name": "stdout",
          "text": [
            "Model: \"model_7_USE\"\n",
            "_________________________________________________________________\n",
            " Layer (type)                Output Shape              Param #   \n",
            "=================================================================\n",
            " USE (KerasLayer)            (None, 512)               256797824 \n",
            "                                                                 \n",
            " dense_6 (Dense)             (None, 128)               65664     \n",
            "                                                                 \n",
            " dense_7 (Dense)             (None, 1)                 129       \n",
            "                                                                 \n",
            "=================================================================\n",
            "Total params: 256,863,617\n",
            "Trainable params: 65,793\n",
            "Non-trainable params: 256,797,824\n",
            "_________________________________________________________________\n"
          ]
        }
      ]
    },
    {
      "cell_type": "code",
      "source": [
        "# TASK 70: FIT THE 10% TF-USE MODEL\n",
        "model_8_history = model_8.fit(x = train_sentences_10_percent,\n",
        "                              y = train_labels_10_percent,\n",
        "                              epochs = 5,\n",
        "                              validation_data = (val_sentences, val_labels))"
      ],
      "metadata": {
        "id": "vqcP4VuciNrO",
        "colab": {
          "base_uri": "https://localhost:8080/"
        },
        "outputId": "6d32d49d-4fb6-44fc-de81-4c771a7c60db"
      },
      "execution_count": 71,
      "outputs": [
        {
          "output_type": "stream",
          "name": "stdout",
          "text": [
            "Epoch 1/5\n",
            "22/22 [==============================] - 5s 86ms/step - loss: 0.6587 - accuracy: 0.7460 - val_loss: 0.6299 - val_accuracy: 0.7493\n",
            "Epoch 2/5\n",
            "22/22 [==============================] - 1s 28ms/step - loss: 0.5629 - accuracy: 0.8102 - val_loss: 0.5541 - val_accuracy: 0.7664\n",
            "Epoch 3/5\n",
            "22/22 [==============================] - 1s 24ms/step - loss: 0.4739 - accuracy: 0.8292 - val_loss: 0.5049 - val_accuracy: 0.7703\n",
            "Epoch 4/5\n",
            "22/22 [==============================] - 1s 27ms/step - loss: 0.4159 - accuracy: 0.8321 - val_loss: 0.4866 - val_accuracy: 0.7743\n",
            "Epoch 5/5\n",
            "22/22 [==============================] - 1s 25ms/step - loss: 0.3806 - accuracy: 0.8438 - val_loss: 0.4838 - val_accuracy: 0.7808\n"
          ]
        }
      ]
    },
    {
      "cell_type": "code",
      "source": [
        "# TASK 71: RUN THE PREDICTION FOR 10% TF-USE MODEL. \n",
        "model_8_pred_prob = model_8.predict(val_sentences)\n",
        "model_8_preds = tf.squeeze(tf.round(model_8_pred_prob))"
      ],
      "metadata": {
        "id": "zfCE0nysCUxT",
        "colab": {
          "base_uri": "https://localhost:8080/"
        },
        "outputId": "0820817e-0c67-43db-98d0-ebd93cb7b848"
      },
      "execution_count": 72,
      "outputs": [
        {
          "output_type": "stream",
          "name": "stdout",
          "text": [
            "24/24 [==============================] - 1s 9ms/step\n"
          ]
        }
      ]
    },
    {
      "cell_type": "code",
      "source": [
        "# TASK 72:PRINT THE 10% TF-USE MODEL.\n",
        "model_8_results = calculate_results(val_labels, model_8_preds)\n",
        "model_8_results"
      ],
      "metadata": {
        "id": "rbRlSPm3kFcN",
        "colab": {
          "base_uri": "https://localhost:8080/"
        },
        "outputId": "c7bf00e4-66f1-431d-e1b9-910b70cf22ad"
      },
      "execution_count": 73,
      "outputs": [
        {
          "output_type": "execute_result",
          "data": {
            "text/plain": [
              "{'accuracy': 78.08398950131233,\n",
              " 'precision': 0.781486692298758,\n",
              " 'recall': 0.7808398950131233,\n",
              " 'f1': 0.7794817733933848}"
            ]
          },
          "metadata": {},
          "execution_count": 73
        }
      ]
    },
    {
      "cell_type": "markdown",
      "source": [
        "#Comparing the results of the models"
      ],
      "metadata": {
        "id": "Wc0NRBNPofz1"
      }
    },
    {
      "cell_type": "code",
      "source": [
        "# TASK 73: STORE ALL MODEL'S RESULT IN A DATAFRAME \n",
        "all_model_results = pd.DataFrame({\"baseline\": baseline_results,\n",
        "                                  \"Simple_dense_model\": model_2_results,\n",
        "                                  \"LSTM\":model_3_results,\n",
        "                                  \"GRU\": model_4_results,\n",
        "                                  \"LSTM-Bidirectional\": model_5_results,\n",
        "                                  \"Conv_1D\": model_6_results,\n",
        "                                  \"TF HUB USE Encoder\": model_7_results,\n",
        "                                  \"TF HUB USE Encoder_10%\": model_8_results\n",
        "                                  })\n"
      ],
      "metadata": {
        "id": "mK7Ns4KekQHS"
      },
      "execution_count": 74,
      "outputs": []
    },
    {
      "cell_type": "code",
      "source": [
        "# TASK 74: TRANSPOSE THE DATAFRAME\n",
        "all_model_results = all_model_results.transpose()"
      ],
      "metadata": {
        "id": "UPE2dvCOoppn"
      },
      "execution_count": 75,
      "outputs": []
    },
    {
      "cell_type": "code",
      "source": [
        "# TASK 75: UPDATE THE ACCURACY COLUMN VALUES BY DIVIDING THEM BY 100.\n",
        "all_model_results[\"accuracy\"] = all_model_results[\"accuracy\"]/100"
      ],
      "metadata": {
        "id": "SBvSPzNux2Zp"
      },
      "execution_count": 76,
      "outputs": []
    },
    {
      "cell_type": "code",
      "source": [
        "# TASK 76: COMPARISON OF MODEL'S RESULT\n",
        "all_model_results"
      ],
      "metadata": {
        "id": "7Jlt48e2xiXx",
        "colab": {
          "base_uri": "https://localhost:8080/",
          "height": 300
        },
        "outputId": "fe96a0d2-0ada-4da6-ff7b-bb77b6815c6b"
      },
      "execution_count": 77,
      "outputs": [
        {
          "output_type": "execute_result",
          "data": {
            "text/plain": [
              "                        accuracy  precision    recall        f1\n",
              "baseline                0.792651   0.811139  0.792651  0.786219\n",
              "Simple_dense_model      0.780840   0.786125  0.780840  0.777528\n",
              "LSTM                    0.763780   0.765730  0.763780  0.761364\n",
              "GRU                     0.759843   0.760458  0.759843  0.758116\n",
              "LSTM-Bidirectional      0.765092   0.769637  0.765092  0.761542\n",
              "Conv_1D                 0.519685   0.380805  0.519685  0.384288\n",
              "TF HUB USE Encoder      0.820210   0.822627  0.820210  0.818728\n",
              "TF HUB USE Encoder_10%  0.780840   0.781487  0.780840  0.779482"
            ],
            "text/html": [
              "\n",
              "  <div id=\"df-8c5827ec-892a-47bf-bb67-13facecff5e5\">\n",
              "    <div class=\"colab-df-container\">\n",
              "      <div>\n",
              "<style scoped>\n",
              "    .dataframe tbody tr th:only-of-type {\n",
              "        vertical-align: middle;\n",
              "    }\n",
              "\n",
              "    .dataframe tbody tr th {\n",
              "        vertical-align: top;\n",
              "    }\n",
              "\n",
              "    .dataframe thead th {\n",
              "        text-align: right;\n",
              "    }\n",
              "</style>\n",
              "<table border=\"1\" class=\"dataframe\">\n",
              "  <thead>\n",
              "    <tr style=\"text-align: right;\">\n",
              "      <th></th>\n",
              "      <th>accuracy</th>\n",
              "      <th>precision</th>\n",
              "      <th>recall</th>\n",
              "      <th>f1</th>\n",
              "    </tr>\n",
              "  </thead>\n",
              "  <tbody>\n",
              "    <tr>\n",
              "      <th>baseline</th>\n",
              "      <td>0.792651</td>\n",
              "      <td>0.811139</td>\n",
              "      <td>0.792651</td>\n",
              "      <td>0.786219</td>\n",
              "    </tr>\n",
              "    <tr>\n",
              "      <th>Simple_dense_model</th>\n",
              "      <td>0.780840</td>\n",
              "      <td>0.786125</td>\n",
              "      <td>0.780840</td>\n",
              "      <td>0.777528</td>\n",
              "    </tr>\n",
              "    <tr>\n",
              "      <th>LSTM</th>\n",
              "      <td>0.763780</td>\n",
              "      <td>0.765730</td>\n",
              "      <td>0.763780</td>\n",
              "      <td>0.761364</td>\n",
              "    </tr>\n",
              "    <tr>\n",
              "      <th>GRU</th>\n",
              "      <td>0.759843</td>\n",
              "      <td>0.760458</td>\n",
              "      <td>0.759843</td>\n",
              "      <td>0.758116</td>\n",
              "    </tr>\n",
              "    <tr>\n",
              "      <th>LSTM-Bidirectional</th>\n",
              "      <td>0.765092</td>\n",
              "      <td>0.769637</td>\n",
              "      <td>0.765092</td>\n",
              "      <td>0.761542</td>\n",
              "    </tr>\n",
              "    <tr>\n",
              "      <th>Conv_1D</th>\n",
              "      <td>0.519685</td>\n",
              "      <td>0.380805</td>\n",
              "      <td>0.519685</td>\n",
              "      <td>0.384288</td>\n",
              "    </tr>\n",
              "    <tr>\n",
              "      <th>TF HUB USE Encoder</th>\n",
              "      <td>0.820210</td>\n",
              "      <td>0.822627</td>\n",
              "      <td>0.820210</td>\n",
              "      <td>0.818728</td>\n",
              "    </tr>\n",
              "    <tr>\n",
              "      <th>TF HUB USE Encoder_10%</th>\n",
              "      <td>0.780840</td>\n",
              "      <td>0.781487</td>\n",
              "      <td>0.780840</td>\n",
              "      <td>0.779482</td>\n",
              "    </tr>\n",
              "  </tbody>\n",
              "</table>\n",
              "</div>\n",
              "      <button class=\"colab-df-convert\" onclick=\"convertToInteractive('df-8c5827ec-892a-47bf-bb67-13facecff5e5')\"\n",
              "              title=\"Convert this dataframe to an interactive table.\"\n",
              "              style=\"display:none;\">\n",
              "        \n",
              "  <svg xmlns=\"http://www.w3.org/2000/svg\" height=\"24px\"viewBox=\"0 0 24 24\"\n",
              "       width=\"24px\">\n",
              "    <path d=\"M0 0h24v24H0V0z\" fill=\"none\"/>\n",
              "    <path d=\"M18.56 5.44l.94 2.06.94-2.06 2.06-.94-2.06-.94-.94-2.06-.94 2.06-2.06.94zm-11 1L8.5 8.5l.94-2.06 2.06-.94-2.06-.94L8.5 2.5l-.94 2.06-2.06.94zm10 10l.94 2.06.94-2.06 2.06-.94-2.06-.94-.94-2.06-.94 2.06-2.06.94z\"/><path d=\"M17.41 7.96l-1.37-1.37c-.4-.4-.92-.59-1.43-.59-.52 0-1.04.2-1.43.59L10.3 9.45l-7.72 7.72c-.78.78-.78 2.05 0 2.83L4 21.41c.39.39.9.59 1.41.59.51 0 1.02-.2 1.41-.59l7.78-7.78 2.81-2.81c.8-.78.8-2.07 0-2.86zM5.41 20L4 18.59l7.72-7.72 1.47 1.35L5.41 20z\"/>\n",
              "  </svg>\n",
              "      </button>\n",
              "      \n",
              "  <style>\n",
              "    .colab-df-container {\n",
              "      display:flex;\n",
              "      flex-wrap:wrap;\n",
              "      gap: 12px;\n",
              "    }\n",
              "\n",
              "    .colab-df-convert {\n",
              "      background-color: #E8F0FE;\n",
              "      border: none;\n",
              "      border-radius: 50%;\n",
              "      cursor: pointer;\n",
              "      display: none;\n",
              "      fill: #1967D2;\n",
              "      height: 32px;\n",
              "      padding: 0 0 0 0;\n",
              "      width: 32px;\n",
              "    }\n",
              "\n",
              "    .colab-df-convert:hover {\n",
              "      background-color: #E2EBFA;\n",
              "      box-shadow: 0px 1px 2px rgba(60, 64, 67, 0.3), 0px 1px 3px 1px rgba(60, 64, 67, 0.15);\n",
              "      fill: #174EA6;\n",
              "    }\n",
              "\n",
              "    [theme=dark] .colab-df-convert {\n",
              "      background-color: #3B4455;\n",
              "      fill: #D2E3FC;\n",
              "    }\n",
              "\n",
              "    [theme=dark] .colab-df-convert:hover {\n",
              "      background-color: #434B5C;\n",
              "      box-shadow: 0px 1px 3px 1px rgba(0, 0, 0, 0.15);\n",
              "      filter: drop-shadow(0px 1px 2px rgba(0, 0, 0, 0.3));\n",
              "      fill: #FFFFFF;\n",
              "    }\n",
              "  </style>\n",
              "\n",
              "      <script>\n",
              "        const buttonEl =\n",
              "          document.querySelector('#df-8c5827ec-892a-47bf-bb67-13facecff5e5 button.colab-df-convert');\n",
              "        buttonEl.style.display =\n",
              "          google.colab.kernel.accessAllowed ? 'block' : 'none';\n",
              "\n",
              "        async function convertToInteractive(key) {\n",
              "          const element = document.querySelector('#df-8c5827ec-892a-47bf-bb67-13facecff5e5');\n",
              "          const dataTable =\n",
              "            await google.colab.kernel.invokeFunction('convertToInteractive',\n",
              "                                                     [key], {});\n",
              "          if (!dataTable) return;\n",
              "\n",
              "          const docLinkHtml = 'Like what you see? Visit the ' +\n",
              "            '<a target=\"_blank\" href=https://colab.research.google.com/notebooks/data_table.ipynb>data table notebook</a>'\n",
              "            + ' to learn more about interactive tables.';\n",
              "          element.innerHTML = '';\n",
              "          dataTable['output_type'] = 'display_data';\n",
              "          await google.colab.output.renderOutput(dataTable, element);\n",
              "          const docLink = document.createElement('div');\n",
              "          docLink.innerHTML = docLinkHtml;\n",
              "          element.appendChild(docLink);\n",
              "        }\n",
              "      </script>\n",
              "    </div>\n",
              "  </div>\n",
              "  "
            ]
          },
          "metadata": {},
          "execution_count": 77
        }
      ]
    },
    {
      "cell_type": "code",
      "source": [
        "# TASK 77: PLOT THE RSULTS OF ALL MODELS\n",
        "all_model_results.plot(kind = \"bar\",figsize=(10,7)).legend(bbox_to_anchor=(1.0, 1.0))"
      ],
      "metadata": {
        "id": "3K3QFURUwID7",
        "colab": {
          "base_uri": "https://localhost:8080/",
          "height": 785
        },
        "outputId": "07f0c3c3-da2f-4c42-953b-bb261963f77e"
      },
      "execution_count": 78,
      "outputs": [
        {
          "output_type": "execute_result",
          "data": {
            "text/plain": [
              "<matplotlib.legend.Legend at 0x7f78cac107f0>"
            ]
          },
          "metadata": {},
          "execution_count": 78
        },
        {
          "output_type": "display_data",
          "data": {
            "text/plain": [
              "<Figure size 1000x700 with 1 Axes>"
            ],
            "image/png": "[encoded data removed]"
          },
          "metadata": {}
        }
      ]
    },
    {
      "cell_type": "code",
      "source": [],
      "metadata": {
        "id": "nTnoxbonxV8T"
      },
      "execution_count": 78,
      "outputs": []
    }
  ]
}